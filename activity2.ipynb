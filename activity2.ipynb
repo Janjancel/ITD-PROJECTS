{
 "cells": [
  {
   "cell_type": "code",
   "execution_count": 1,
   "id": "5781ddf1-e6cc-44ee-9f56-b289f12493f7",
   "metadata": {},
   "outputs": [],
   "source": [
    "import numpy as np\n",
    "import pandas as pd\n",
    "import seaborn as sns\n",
    "import matplotlib.pyplot as plt\n"
   ]
  },
  {
   "cell_type": "code",
   "execution_count": 2,
   "id": "677234e0-3cce-4968-a499-fa4490f7ca0a",
   "metadata": {},
   "outputs": [],
   "source": [
    "import pandas as pd\n",
    "\n",
    "penguins = pd.read_csv('datasets\\\\penguins.csv')"
   ]
  },
  {
   "cell_type": "code",
   "execution_count": 3,
   "id": "0cf31303-f11e-487b-a74f-32722a26d052",
   "metadata": {},
   "outputs": [
    {
     "name": "stdout",
     "output_type": "stream",
     "text": [
      "<class 'pandas.core.frame.DataFrame'>\n",
      "RangeIndex: 344 entries, 0 to 343\n",
      "Data columns (total 9 columns):\n",
      " #   Column             Non-Null Count  Dtype  \n",
      "---  ------             --------------  -----  \n",
      " 0   rowid              344 non-null    int64  \n",
      " 1   species            344 non-null    object \n",
      " 2   island             344 non-null    object \n",
      " 3   bill_length_mm     342 non-null    float64\n",
      " 4   bill_depth_mm      342 non-null    float64\n",
      " 5   flipper_length_mm  342 non-null    float64\n",
      " 6   body_mass_g        342 non-null    float64\n",
      " 7   sex                333 non-null    object \n",
      " 8   year               344 non-null    int64  \n",
      "dtypes: float64(4), int64(2), object(3)\n",
      "memory usage: 24.3+ KB\n"
     ]
    }
   ],
   "source": [
    "penguins.info()"
   ]
  },
  {
   "cell_type": "code",
   "execution_count": 4,
   "id": "c9eb8f0d-9b7c-416e-b0ab-4fc2d14afbd4",
   "metadata": {},
   "outputs": [],
   "source": [
    "penguins['species'] = penguins['species'].fillna(penguins['species'].mode()[0])\n",
    "penguins['bill_length_mm'] = penguins['bill_length_mm'].fillna(penguins['bill_length_mm'].mode()[0])\n",
    "penguins['bill_depth_mm'] = penguins['bill_depth_mm'].fillna(penguins['bill_depth_mm'].mode()[0])\n",
    "penguins['flipper_length_mm'] = penguins['flipper_length_mm'].fillna(penguins['flipper_length_mm'].mode()[0])\n",
    "penguins['sex'] = penguins['sex'].fillna(penguins['sex'].mode()[0])\n",
    "penguins['species'] = penguins['species'].fillna(penguins['species'].mode()[0])\n",
    "penguins['body_mass_g'] = penguins['body_mass_g'].fillna(penguins['body_mass_g'].mode()[0])"
   ]
  },
  {
   "cell_type": "code",
   "execution_count": 5,
   "id": "c5be0d1d-d405-4110-9653-7ccf83963d58",
   "metadata": {},
   "outputs": [
    {
     "data": {
      "text/plain": [
       "rowid                0\n",
       "species              0\n",
       "island               0\n",
       "bill_length_mm       0\n",
       "bill_depth_mm        0\n",
       "flipper_length_mm    0\n",
       "body_mass_g          0\n",
       "sex                  0\n",
       "year                 0\n",
       "dtype: int64"
      ]
     },
     "execution_count": 5,
     "metadata": {},
     "output_type": "execute_result"
    }
   ],
   "source": [
    "penguins.isnull().sum()"
   ]
  },
  {
   "cell_type": "markdown",
   "id": "1454b916-7484-4a01-9598-5321ee1b5a4a",
   "metadata": {},
   "source": [
    "<h1> insight 1 </h1>"
   ]
  },
  {
   "cell_type": "code",
   "execution_count": 6,
   "id": "0e5d01ad-ac13-4ae9-b313-9fca72ad689e",
   "metadata": {},
   "outputs": [
    {
     "data": {
      "text/plain": [
       "0       True\n",
       "1       True\n",
       "2       True\n",
       "3       True\n",
       "4       True\n",
       "       ...  \n",
       "339    False\n",
       "340    False\n",
       "341    False\n",
       "342    False\n",
       "343    False\n",
       "Name: species, Length: 344, dtype: bool"
      ]
     },
     "execution_count": 6,
     "metadata": {},
     "output_type": "execute_result"
    }
   ],
   "source": [
    "penguins['species'] == 'Adelie'"
   ]
  },
  {
   "cell_type": "code",
   "execution_count": 7,
   "id": "98743944-2f7d-4b85-aa58-91d98dd5e06c",
   "metadata": {},
   "outputs": [
    {
     "data": {
      "text/html": [
       "<div>\n",
       "<style scoped>\n",
       "    .dataframe tbody tr th:only-of-type {\n",
       "        vertical-align: middle;\n",
       "    }\n",
       "\n",
       "    .dataframe tbody tr th {\n",
       "        vertical-align: top;\n",
       "    }\n",
       "\n",
       "    .dataframe thead th {\n",
       "        text-align: right;\n",
       "    }\n",
       "</style>\n",
       "<table border=\"1\" class=\"dataframe\">\n",
       "  <thead>\n",
       "    <tr style=\"text-align: right;\">\n",
       "      <th></th>\n",
       "      <th>rowid</th>\n",
       "      <th>species</th>\n",
       "      <th>island</th>\n",
       "      <th>bill_length_mm</th>\n",
       "      <th>bill_depth_mm</th>\n",
       "      <th>flipper_length_mm</th>\n",
       "      <th>body_mass_g</th>\n",
       "      <th>sex</th>\n",
       "      <th>year</th>\n",
       "    </tr>\n",
       "  </thead>\n",
       "  <tbody>\n",
       "    <tr>\n",
       "      <th>0</th>\n",
       "      <td>1</td>\n",
       "      <td>Adelie</td>\n",
       "      <td>Torgersen</td>\n",
       "      <td>39.1</td>\n",
       "      <td>18.7</td>\n",
       "      <td>181.0</td>\n",
       "      <td>3750.0</td>\n",
       "      <td>male</td>\n",
       "      <td>2007</td>\n",
       "    </tr>\n",
       "    <tr>\n",
       "      <th>1</th>\n",
       "      <td>2</td>\n",
       "      <td>Adelie</td>\n",
       "      <td>Torgersen</td>\n",
       "      <td>39.5</td>\n",
       "      <td>17.4</td>\n",
       "      <td>186.0</td>\n",
       "      <td>3800.0</td>\n",
       "      <td>female</td>\n",
       "      <td>2007</td>\n",
       "    </tr>\n",
       "    <tr>\n",
       "      <th>2</th>\n",
       "      <td>3</td>\n",
       "      <td>Adelie</td>\n",
       "      <td>Torgersen</td>\n",
       "      <td>40.3</td>\n",
       "      <td>18.0</td>\n",
       "      <td>195.0</td>\n",
       "      <td>3250.0</td>\n",
       "      <td>female</td>\n",
       "      <td>2007</td>\n",
       "    </tr>\n",
       "    <tr>\n",
       "      <th>3</th>\n",
       "      <td>4</td>\n",
       "      <td>Adelie</td>\n",
       "      <td>Torgersen</td>\n",
       "      <td>41.1</td>\n",
       "      <td>17.0</td>\n",
       "      <td>190.0</td>\n",
       "      <td>3800.0</td>\n",
       "      <td>male</td>\n",
       "      <td>2007</td>\n",
       "    </tr>\n",
       "    <tr>\n",
       "      <th>4</th>\n",
       "      <td>5</td>\n",
       "      <td>Adelie</td>\n",
       "      <td>Torgersen</td>\n",
       "      <td>36.7</td>\n",
       "      <td>19.3</td>\n",
       "      <td>193.0</td>\n",
       "      <td>3450.0</td>\n",
       "      <td>female</td>\n",
       "      <td>2007</td>\n",
       "    </tr>\n",
       "    <tr>\n",
       "      <th>...</th>\n",
       "      <td>...</td>\n",
       "      <td>...</td>\n",
       "      <td>...</td>\n",
       "      <td>...</td>\n",
       "      <td>...</td>\n",
       "      <td>...</td>\n",
       "      <td>...</td>\n",
       "      <td>...</td>\n",
       "      <td>...</td>\n",
       "    </tr>\n",
       "    <tr>\n",
       "      <th>147</th>\n",
       "      <td>148</td>\n",
       "      <td>Adelie</td>\n",
       "      <td>Dream</td>\n",
       "      <td>36.6</td>\n",
       "      <td>18.4</td>\n",
       "      <td>184.0</td>\n",
       "      <td>3475.0</td>\n",
       "      <td>female</td>\n",
       "      <td>2009</td>\n",
       "    </tr>\n",
       "    <tr>\n",
       "      <th>148</th>\n",
       "      <td>149</td>\n",
       "      <td>Adelie</td>\n",
       "      <td>Dream</td>\n",
       "      <td>36.0</td>\n",
       "      <td>17.8</td>\n",
       "      <td>195.0</td>\n",
       "      <td>3450.0</td>\n",
       "      <td>female</td>\n",
       "      <td>2009</td>\n",
       "    </tr>\n",
       "    <tr>\n",
       "      <th>149</th>\n",
       "      <td>150</td>\n",
       "      <td>Adelie</td>\n",
       "      <td>Dream</td>\n",
       "      <td>37.8</td>\n",
       "      <td>18.1</td>\n",
       "      <td>193.0</td>\n",
       "      <td>3750.0</td>\n",
       "      <td>male</td>\n",
       "      <td>2009</td>\n",
       "    </tr>\n",
       "    <tr>\n",
       "      <th>150</th>\n",
       "      <td>151</td>\n",
       "      <td>Adelie</td>\n",
       "      <td>Dream</td>\n",
       "      <td>36.0</td>\n",
       "      <td>17.1</td>\n",
       "      <td>187.0</td>\n",
       "      <td>3700.0</td>\n",
       "      <td>female</td>\n",
       "      <td>2009</td>\n",
       "    </tr>\n",
       "    <tr>\n",
       "      <th>151</th>\n",
       "      <td>152</td>\n",
       "      <td>Adelie</td>\n",
       "      <td>Dream</td>\n",
       "      <td>41.5</td>\n",
       "      <td>18.5</td>\n",
       "      <td>201.0</td>\n",
       "      <td>4000.0</td>\n",
       "      <td>male</td>\n",
       "      <td>2009</td>\n",
       "    </tr>\n",
       "  </tbody>\n",
       "</table>\n",
       "<p>152 rows × 9 columns</p>\n",
       "</div>"
      ],
      "text/plain": [
       "     rowid species     island  bill_length_mm  bill_depth_mm  \\\n",
       "0        1  Adelie  Torgersen            39.1           18.7   \n",
       "1        2  Adelie  Torgersen            39.5           17.4   \n",
       "2        3  Adelie  Torgersen            40.3           18.0   \n",
       "3        4  Adelie  Torgersen            41.1           17.0   \n",
       "4        5  Adelie  Torgersen            36.7           19.3   \n",
       "..     ...     ...        ...             ...            ...   \n",
       "147    148  Adelie      Dream            36.6           18.4   \n",
       "148    149  Adelie      Dream            36.0           17.8   \n",
       "149    150  Adelie      Dream            37.8           18.1   \n",
       "150    151  Adelie      Dream            36.0           17.1   \n",
       "151    152  Adelie      Dream            41.5           18.5   \n",
       "\n",
       "     flipper_length_mm  body_mass_g     sex  year  \n",
       "0                181.0       3750.0    male  2007  \n",
       "1                186.0       3800.0  female  2007  \n",
       "2                195.0       3250.0  female  2007  \n",
       "3                190.0       3800.0    male  2007  \n",
       "4                193.0       3450.0  female  2007  \n",
       "..                 ...          ...     ...   ...  \n",
       "147              184.0       3475.0  female  2009  \n",
       "148              195.0       3450.0  female  2009  \n",
       "149              193.0       3750.0    male  2009  \n",
       "150              187.0       3700.0  female  2009  \n",
       "151              201.0       4000.0    male  2009  \n",
       "\n",
       "[152 rows x 9 columns]"
      ]
     },
     "execution_count": 7,
     "metadata": {},
     "output_type": "execute_result"
    }
   ],
   "source": [
    "penguins[penguins['species'] == 'Adelie']"
   ]
  },
  {
   "cell_type": "markdown",
   "id": "0b0c0bd0-c350-47c2-9d7f-116b0db7da58",
   "metadata": {},
   "source": [
    "<h1> Does 'Adele' exclusively live on Island </h1>"
   ]
  },
  {
   "cell_type": "code",
   "execution_count": 8,
   "id": "d6d1656b-13b6-43c3-9fd3-2f3c83b9ddcd",
   "metadata": {},
   "outputs": [
    {
     "data": {
      "text/plain": [
       "0      Torgersen\n",
       "1      Torgersen\n",
       "2      Torgersen\n",
       "3      Torgersen\n",
       "4      Torgersen\n",
       "         ...    \n",
       "339        Dream\n",
       "340        Dream\n",
       "341        Dream\n",
       "342        Dream\n",
       "343        Dream\n",
       "Name: island, Length: 344, dtype: object"
      ]
     },
     "execution_count": 8,
     "metadata": {},
     "output_type": "execute_result"
    }
   ],
   "source": [
    "penguins['island']"
   ]
  },
  {
   "cell_type": "code",
   "execution_count": 9,
   "id": "fd060ac6-81ec-4758-9103-ffece81d3dc0",
   "metadata": {},
   "outputs": [
    {
     "data": {
      "text/plain": [
       "0         Adelie\n",
       "1         Adelie\n",
       "2         Adelie\n",
       "3         Adelie\n",
       "4         Adelie\n",
       "         ...    \n",
       "339    Chinstrap\n",
       "340    Chinstrap\n",
       "341    Chinstrap\n",
       "342    Chinstrap\n",
       "343    Chinstrap\n",
       "Name: species, Length: 344, dtype: object"
      ]
     },
     "execution_count": 9,
     "metadata": {},
     "output_type": "execute_result"
    }
   ],
   "source": [
    "penguins['species']"
   ]
  },
  {
   "cell_type": "code",
   "execution_count": 10,
   "id": "da671f40-5a44-4589-b2e6-7b61e2733fa1",
   "metadata": {},
   "outputs": [
    {
     "data": {
      "text/plain": [
       "0       True\n",
       "1       True\n",
       "2       True\n",
       "3       True\n",
       "4       True\n",
       "       ...  \n",
       "339    False\n",
       "340    False\n",
       "341    False\n",
       "342    False\n",
       "343    False\n",
       "Name: species, Length: 344, dtype: bool"
      ]
     },
     "execution_count": 10,
     "metadata": {},
     "output_type": "execute_result"
    }
   ],
   "source": [
    "penguins['species'] == 'Adelie'"
   ]
  },
  {
   "cell_type": "code",
   "execution_count": 11,
   "id": "df1b1446-f8b7-4d49-8916-fdb058eab860",
   "metadata": {},
   "outputs": [
    {
     "data": {
      "text/plain": [
       "0       True\n",
       "1       True\n",
       "2       True\n",
       "3       True\n",
       "4       True\n",
       "       ...  \n",
       "339    False\n",
       "340    False\n",
       "341    False\n",
       "342    False\n",
       "343    False\n",
       "Name: island, Length: 344, dtype: bool"
      ]
     },
     "execution_count": 11,
     "metadata": {},
     "output_type": "execute_result"
    }
   ],
   "source": [
    "penguins['island'] == 'Torgersen'"
   ]
  },
  {
   "cell_type": "code",
   "execution_count": 12,
   "id": "752125d7-884f-40ce-9676-c808e5d23bf0",
   "metadata": {},
   "outputs": [
    {
     "data": {
      "text/plain": [
       "0      False\n",
       "1      False\n",
       "2      False\n",
       "3      False\n",
       "4      False\n",
       "       ...  \n",
       "339     True\n",
       "340     True\n",
       "341     True\n",
       "342     True\n",
       "343     True\n",
       "Name: island, Length: 344, dtype: bool"
      ]
     },
     "execution_count": 12,
     "metadata": {},
     "output_type": "execute_result"
    }
   ],
   "source": [
    "penguins['island'] == 'Dream'"
   ]
  },
  {
   "cell_type": "markdown",
   "id": "c59ba882-86a8-40d0-acc7-b180728ab293",
   "metadata": {},
   "source": [
    "<h1> insight no.2 </h1>"
   ]
  },
  {
   "cell_type": "code",
   "execution_count": 13,
   "id": "8b05962a-0b76-4863-aa3d-d92b9befd605",
   "metadata": {},
   "outputs": [
    {
     "data": {
      "text/plain": [
       "rowid                52\n",
       "species              52\n",
       "island               52\n",
       "bill_length_mm       52\n",
       "bill_depth_mm        52\n",
       "flipper_length_mm    52\n",
       "body_mass_g          52\n",
       "sex                  52\n",
       "year                 52\n",
       "dtype: int64"
      ]
     },
     "execution_count": 13,
     "metadata": {},
     "output_type": "execute_result"
    }
   ],
   "source": [
    "penguins[(penguins['species'] == 'Adelie') & (penguins['island'] == 'Torgersen')].count()"
   ]
  },
  {
   "cell_type": "code",
   "execution_count": 14,
   "id": "adc4f74d-b2ab-4cd5-8d7c-6bc0eeeba71a",
   "metadata": {},
   "outputs": [
    {
     "data": {
      "text/plain": [
       "rowid                56\n",
       "species              56\n",
       "island               56\n",
       "bill_length_mm       56\n",
       "bill_depth_mm        56\n",
       "flipper_length_mm    56\n",
       "body_mass_g          56\n",
       "sex                  56\n",
       "year                 56\n",
       "dtype: int64"
      ]
     },
     "execution_count": 14,
     "metadata": {},
     "output_type": "execute_result"
    }
   ],
   "source": [
    "penguins[(penguins['species'] == 'Adelie') & (penguins['island'] == 'Dream')].count()"
   ]
  },
  {
   "cell_type": "code",
   "execution_count": 15,
   "id": "0f170ac8-dd5a-4557-944e-e7449661360c",
   "metadata": {},
   "outputs": [
    {
     "data": {
      "text/plain": [
       "rowid                44\n",
       "species              44\n",
       "island               44\n",
       "bill_length_mm       44\n",
       "bill_depth_mm        44\n",
       "flipper_length_mm    44\n",
       "body_mass_g          44\n",
       "sex                  44\n",
       "year                 44\n",
       "dtype: int64"
      ]
     },
     "execution_count": 15,
     "metadata": {},
     "output_type": "execute_result"
    }
   ],
   "source": [
    "penguins[(penguins['species'] == 'Adelie') & (penguins['island'] == 'Biscoe')].count()"
   ]
  },
  {
   "cell_type": "code",
   "execution_count": 16,
   "id": "8f882539-6fff-4f61-8e5e-9cb34701c87b",
   "metadata": {},
   "outputs": [
    {
     "data": {
      "text/plain": [
       "rowid                0\n",
       "species              0\n",
       "island               0\n",
       "bill_length_mm       0\n",
       "bill_depth_mm        0\n",
       "flipper_length_mm    0\n",
       "body_mass_g          0\n",
       "sex                  0\n",
       "year                 0\n",
       "dtype: int64"
      ]
     },
     "execution_count": 16,
     "metadata": {},
     "output_type": "execute_result"
    }
   ],
   "source": [
    "penguins[(penguins['species'] == 'Chinstrap') & (penguins['island'] == 'Torgersen')].count()"
   ]
  },
  {
   "cell_type": "code",
   "execution_count": 17,
   "id": "fe66d248-c29f-4ca2-8f96-a91c9a990600",
   "metadata": {},
   "outputs": [
    {
     "data": {
      "text/plain": [
       "rowid                68\n",
       "species              68\n",
       "island               68\n",
       "bill_length_mm       68\n",
       "bill_depth_mm        68\n",
       "flipper_length_mm    68\n",
       "body_mass_g          68\n",
       "sex                  68\n",
       "year                 68\n",
       "dtype: int64"
      ]
     },
     "execution_count": 17,
     "metadata": {},
     "output_type": "execute_result"
    }
   ],
   "source": [
    "penguins[(penguins['species'] == 'Chinstrap') & (penguins['island'] == 'Dream')].count()"
   ]
  },
  {
   "cell_type": "code",
   "execution_count": 18,
   "id": "187393b4-abd0-408c-bb5c-04f570a514b9",
   "metadata": {},
   "outputs": [
    {
     "data": {
      "text/plain": [
       "rowid                0\n",
       "species              0\n",
       "island               0\n",
       "bill_length_mm       0\n",
       "bill_depth_mm        0\n",
       "flipper_length_mm    0\n",
       "body_mass_g          0\n",
       "sex                  0\n",
       "year                 0\n",
       "dtype: int64"
      ]
     },
     "execution_count": 18,
     "metadata": {},
     "output_type": "execute_result"
    }
   ],
   "source": [
    "penguins[(penguins['species'] == 'Chinstrap') & (penguins['island'] == 'Biscoe')].count()"
   ]
  },
  {
   "cell_type": "code",
   "execution_count": 19,
   "id": "ef9675d4-e19d-44b0-a867-0bb0f46bf69e",
   "metadata": {},
   "outputs": [
    {
     "data": {
      "text/plain": [
       "rowid                0\n",
       "species              0\n",
       "island               0\n",
       "bill_length_mm       0\n",
       "bill_depth_mm        0\n",
       "flipper_length_mm    0\n",
       "body_mass_g          0\n",
       "sex                  0\n",
       "year                 0\n",
       "dtype: int64"
      ]
     },
     "execution_count": 19,
     "metadata": {},
     "output_type": "execute_result"
    }
   ],
   "source": [
    "penguins[(penguins['species'] == 'Gentoo') & (penguins['island'] == 'Torgersen')].count()"
   ]
  },
  {
   "cell_type": "code",
   "execution_count": 20,
   "id": "e517ba9f-ce78-4e37-9fd7-eb4360c6bc2b",
   "metadata": {},
   "outputs": [
    {
     "data": {
      "text/plain": [
       "rowid                0\n",
       "species              0\n",
       "island               0\n",
       "bill_length_mm       0\n",
       "bill_depth_mm        0\n",
       "flipper_length_mm    0\n",
       "body_mass_g          0\n",
       "sex                  0\n",
       "year                 0\n",
       "dtype: int64"
      ]
     },
     "execution_count": 20,
     "metadata": {},
     "output_type": "execute_result"
    }
   ],
   "source": [
    "penguins[(penguins['species'] == 'Gentoo') & (penguins['island'] == 'Dream')].count()"
   ]
  },
  {
   "cell_type": "code",
   "execution_count": 21,
   "id": "3adf7be9-921e-4b8d-9148-c1106f917770",
   "metadata": {},
   "outputs": [
    {
     "data": {
      "text/plain": [
       "rowid                124\n",
       "species              124\n",
       "island               124\n",
       "bill_length_mm       124\n",
       "bill_depth_mm        124\n",
       "flipper_length_mm    124\n",
       "body_mass_g          124\n",
       "sex                  124\n",
       "year                 124\n",
       "dtype: int64"
      ]
     },
     "execution_count": 21,
     "metadata": {},
     "output_type": "execute_result"
    }
   ],
   "source": [
    "penguins[(penguins['species'] == 'Gentoo') & (penguins['island'] == 'Biscoe')].count()"
   ]
  },
  {
   "cell_type": "markdown",
   "id": "86466385-01cf-4a39-a9e8-d353e06c10e5",
   "metadata": {},
   "source": [
    "<h1> Insight NO.3 </h1>"
   ]
  },
  {
   "cell_type": "markdown",
   "id": "ba5f0cf4-5611-4dcb-902b-18d3c4a035a6",
   "metadata": {},
   "source": [
    "<h2>  no </h2>"
   ]
  },
  {
   "cell_type": "markdown",
   "id": "f56cba0b-8725-41be-a595-bb66efb7bfb4",
   "metadata": {},
   "source": [
    "<h1> Does the island affects the weight or body mass of a penguin specie </h1>"
   ]
  },
  {
   "cell_type": "code",
   "execution_count": 22,
   "id": "fd5836a5-1775-4a80-8f39-901fbf89c822",
   "metadata": {},
   "outputs": [
    {
     "data": {
      "text/plain": [
       "0      3750.0\n",
       "1      3800.0\n",
       "2      3250.0\n",
       "3      3800.0\n",
       "4      3450.0\n",
       "        ...  \n",
       "339    4000.0\n",
       "340    3400.0\n",
       "341    3775.0\n",
       "342    4100.0\n",
       "343    3775.0\n",
       "Name: body_mass_g, Length: 344, dtype: float64"
      ]
     },
     "execution_count": 22,
     "metadata": {},
     "output_type": "execute_result"
    }
   ],
   "source": [
    "penguins['body_mass_g']"
   ]
  },
  {
   "cell_type": "code",
   "execution_count": 23,
   "id": "30bc1078-503a-43a6-9154-c364ac166029",
   "metadata": {},
   "outputs": [
    {
     "data": {
      "text/plain": [
       "0      3.75\n",
       "1      3.80\n",
       "2      3.25\n",
       "3      3.80\n",
       "4      3.45\n",
       "       ... \n",
       "339    4.00\n",
       "340    3.40\n",
       "341    3.78\n",
       "342    4.10\n",
       "343    3.78\n",
       "Name: kilo, Length: 344, dtype: float64"
      ]
     },
     "execution_count": 23,
     "metadata": {},
     "output_type": "execute_result"
    }
   ],
   "source": [
    "penguins['kilo'] = np.round(penguins['body_mass_g'] / 1000, 2)\n",
    "penguins['kilo']"
   ]
  },
  {
   "cell_type": "markdown",
   "id": "a6dbcc6f-c3c2-4117-b0d4-e6f96cb6f791",
   "metadata": {},
   "source": [
    "<h1> insight 4. The average kilo Adelie regardless of Island is 3.7 </h1>"
   ]
  },
  {
   "cell_type": "code",
   "execution_count": 24,
   "id": "1ec97b77-13ba-4377-a03d-5ca3ca7f80b0",
   "metadata": {},
   "outputs": [
    {
     "data": {
      "text/plain": [
       "np.float64(3.7)"
      ]
     },
     "execution_count": 24,
     "metadata": {},
     "output_type": "execute_result"
    }
   ],
   "source": [
    "adelie_torg = penguins[(penguins['species'] == 'Adelie') & (penguins['island'] == 'Torgersen')]\n",
    "adelie_torg['kilo'].mean()\n",
    "np.round(adelie_torg['kilo'].mean(), 1)"
   ]
  },
  {
   "cell_type": "code",
   "execution_count": 25,
   "id": "ce2c51ee-2bcf-4978-a447-2703c5648ff2",
   "metadata": {},
   "outputs": [
    {
     "data": {
      "text/plain": [
       "np.float64(3.7)"
      ]
     },
     "execution_count": 25,
     "metadata": {},
     "output_type": "execute_result"
    }
   ],
   "source": [
    "adelie_dream = penguins[(penguins['species'] == 'Adelie') & (penguins['island'] == 'Dream')]\n",
    "adelie_dream['kilo'].mean()\n",
    "np.round(adelie_dream['kilo'].mean(), 1)"
   ]
  },
  {
   "cell_type": "code",
   "execution_count": 26,
   "id": "73159349-e355-4507-b79c-af00e00999e0",
   "metadata": {},
   "outputs": [
    {
     "data": {
      "text/plain": [
       "np.float64(3.7)"
      ]
     },
     "execution_count": 26,
     "metadata": {},
     "output_type": "execute_result"
    }
   ],
   "source": [
    "adelie_biscoe = penguins[(penguins['species'] == 'Adelie') & (penguins['island'] == 'Biscoe')]\n",
    "adelie_biscoe['kilo'].mean()\n",
    "np.round(adelie_biscoe['kilo'].mean(), 1)"
   ]
  },
  {
   "cell_type": "markdown",
   "id": "5640b6c0-fe3b-4063-928a-62709a78343a",
   "metadata": {},
   "source": [
    "<h1> insight 5 </h1>"
   ]
  },
  {
   "cell_type": "code",
   "execution_count": 27,
   "id": "7a3ecc55-e3ba-4b0a-be6b-e28f51b65338",
   "metadata": {},
   "outputs": [
    {
     "data": {
      "text/plain": [
       "np.float64(nan)"
      ]
     },
     "execution_count": 27,
     "metadata": {},
     "output_type": "execute_result"
    }
   ],
   "source": [
    "chin_torg = penguins[(penguins['species'] == 'Chinstrap') & (penguins['island'] == 'Torgersen')]\n",
    "chin_torg['kilo'].mean()\n",
    "np.round(chin_torg['kilo'].mean(), 1)"
   ]
  },
  {
   "cell_type": "code",
   "execution_count": 28,
   "id": "47cadd8e-b522-413a-be52-852099573410",
   "metadata": {},
   "outputs": [
    {
     "data": {
      "text/plain": [
       "np.float64(3.7)"
      ]
     },
     "execution_count": 28,
     "metadata": {},
     "output_type": "execute_result"
    }
   ],
   "source": [
    "chin_dream = penguins[(penguins['species'] == 'Chinstrap') & (penguins['island'] == 'Dream')]\n",
    "chin_dream['kilo'].mean()\n",
    "np.round(chin_dream['kilo'].mean(), 1)"
   ]
  },
  {
   "cell_type": "code",
   "execution_count": 29,
   "id": "00d299a5-607e-4246-a013-3f13ec264249",
   "metadata": {},
   "outputs": [
    {
     "data": {
      "text/plain": [
       "np.float64(nan)"
      ]
     },
     "execution_count": 29,
     "metadata": {},
     "output_type": "execute_result"
    }
   ],
   "source": [
    "chin_biscoe = penguins[(penguins['species'] == 'Chinstrap') & (penguins['island'] == 'Biscoe')]\n",
    "chin_biscoe['kilo'].mean()\n",
    "np.round(chin_biscoe['kilo'].mean(), 1)"
   ]
  },
  {
   "cell_type": "markdown",
   "id": "6ab19a3a-069c-4479-ae1d-7c0f801ac088",
   "metadata": {},
   "source": [
    "<h1> insight 6 </h1>"
   ]
  },
  {
   "cell_type": "code",
   "execution_count": 30,
   "id": "f9483044-5e16-49fd-afd3-135754f4ca3e",
   "metadata": {},
   "outputs": [
    {
     "data": {
      "text/plain": [
       "np.float64(nan)"
      ]
     },
     "execution_count": 30,
     "metadata": {},
     "output_type": "execute_result"
    }
   ],
   "source": [
    "gen_torg = penguins[(penguins['species'] == 'Gentoo') & (penguins['island'] == 'Torgersen')]\n",
    "gen_torg['kilo'].mean()\n",
    "np.round(gen_torg['kilo'].mean(), 1)"
   ]
  },
  {
   "cell_type": "code",
   "execution_count": 31,
   "id": "5618b149-dd7f-4a61-8194-3fa8ac03dd1e",
   "metadata": {},
   "outputs": [
    {
     "data": {
      "text/plain": [
       "np.float64(nan)"
      ]
     },
     "execution_count": 31,
     "metadata": {},
     "output_type": "execute_result"
    }
   ],
   "source": [
    "gen_dream = penguins[(penguins['species'] == 'Gentoo') & (penguins['island'] == 'Dream')]\n",
    "gen_dream['kilo'].mean()\n",
    "np.round(gen_dream['kilo'].mean(), 1)"
   ]
  },
  {
   "cell_type": "code",
   "execution_count": 32,
   "id": "cef3d61a-971e-4ffa-9a84-7132ff733fb5",
   "metadata": {},
   "outputs": [
    {
     "data": {
      "text/plain": [
       "np.float64(5.1)"
      ]
     },
     "execution_count": 32,
     "metadata": {},
     "output_type": "execute_result"
    }
   ],
   "source": [
    "gen_biscoe = penguins[(penguins['species'] == 'Gentoo') & (penguins['island'] == 'Biscoe')]\n",
    "gen_biscoe['kilo'].mean()\n",
    "np.round(gen_biscoe['kilo'].mean(), 1)"
   ]
  },
  {
   "cell_type": "markdown",
   "id": "8a165a0a-a6a5-472a-a6ad-530e1b061df0",
   "metadata": {},
   "source": [
    "<h1> insight 7. Gentoo has the highest average kilo </h1>"
   ]
  },
  {
   "cell_type": "markdown",
   "id": "697e4340-7d1e-4764-a439-c67a111525ab",
   "metadata": {},
   "source": [
    "<h1> insight 8. Year 2007 has the most recorded data for male in Adelie </h1>"
   ]
  },
  {
   "cell_type": "code",
   "execution_count": 33,
   "id": "4f2205ec-cfe0-423c-ab66-0e4326a55060",
   "metadata": {},
   "outputs": [
    {
     "data": {
      "text/html": [
       "<div>\n",
       "<style scoped>\n",
       "    .dataframe tbody tr th:only-of-type {\n",
       "        vertical-align: middle;\n",
       "    }\n",
       "\n",
       "    .dataframe tbody tr th {\n",
       "        vertical-align: top;\n",
       "    }\n",
       "\n",
       "    .dataframe thead th {\n",
       "        text-align: right;\n",
       "    }\n",
       "</style>\n",
       "<table border=\"1\" class=\"dataframe\">\n",
       "  <thead>\n",
       "    <tr style=\"text-align: right;\">\n",
       "      <th></th>\n",
       "      <th>year</th>\n",
       "      <th>2007</th>\n",
       "      <th>2008</th>\n",
       "      <th>2009</th>\n",
       "    </tr>\n",
       "    <tr>\n",
       "      <th>species</th>\n",
       "      <th>sex</th>\n",
       "      <th></th>\n",
       "      <th></th>\n",
       "      <th></th>\n",
       "    </tr>\n",
       "  </thead>\n",
       "  <tbody>\n",
       "    <tr>\n",
       "      <th rowspan=\"2\" valign=\"top\">Adelie</th>\n",
       "      <th>female</th>\n",
       "      <td>22</td>\n",
       "      <td>25</td>\n",
       "      <td>26</td>\n",
       "    </tr>\n",
       "    <tr>\n",
       "      <th>male</th>\n",
       "      <td>28</td>\n",
       "      <td>25</td>\n",
       "      <td>26</td>\n",
       "    </tr>\n",
       "    <tr>\n",
       "      <th rowspan=\"2\" valign=\"top\">Chinstrap</th>\n",
       "      <th>female</th>\n",
       "      <td>13</td>\n",
       "      <td>9</td>\n",
       "      <td>12</td>\n",
       "    </tr>\n",
       "    <tr>\n",
       "      <th>male</th>\n",
       "      <td>13</td>\n",
       "      <td>9</td>\n",
       "      <td>12</td>\n",
       "    </tr>\n",
       "    <tr>\n",
       "      <th rowspan=\"2\" valign=\"top\">Gentoo</th>\n",
       "      <th>female</th>\n",
       "      <td>16</td>\n",
       "      <td>22</td>\n",
       "      <td>20</td>\n",
       "    </tr>\n",
       "    <tr>\n",
       "      <th>male</th>\n",
       "      <td>18</td>\n",
       "      <td>24</td>\n",
       "      <td>24</td>\n",
       "    </tr>\n",
       "  </tbody>\n",
       "</table>\n",
       "</div>"
      ],
      "text/plain": [
       "year              2007  2008  2009\n",
       "species   sex                     \n",
       "Adelie    female    22    25    26\n",
       "          male      28    25    26\n",
       "Chinstrap female    13     9    12\n",
       "          male      13     9    12\n",
       "Gentoo    female    16    22    20\n",
       "          male      18    24    24"
      ]
     },
     "execution_count": 33,
     "metadata": {},
     "output_type": "execute_result"
    }
   ],
   "source": [
    "p_agg = penguins.groupby(['species', 'sex', 'year']).size()\n",
    "p_agg.unstack()"
   ]
  },
  {
   "cell_type": "markdown",
   "id": "eef9c177-0edd-4dc3-9014-62af51c7e20b",
   "metadata": {},
   "source": [
    "<h1> Question No.9 </h1>"
   ]
  },
  {
   "cell_type": "markdown",
   "id": "8d4b91e0-36ba-4b2f-8f8c-4695f8c270d7",
   "metadata": {},
   "source": [
    "<h3> Which is heavier between penguins species in terms of sex. </h3>"
   ]
  },
  {
   "cell_type": "code",
   "execution_count": 34,
   "id": "a70f0c92-b0a3-497f-9128-5edd080013e2",
   "metadata": {},
   "outputs": [
    {
     "data": {
      "text/plain": [
       "species    sex   \n",
       "Adelie     female    3.4\n",
       "           male      4.0\n",
       "Chinstrap  female    3.5\n",
       "           male      3.9\n",
       "Gentoo     female    4.7\n",
       "           male      5.4\n",
       "Name: kilo, dtype: float64"
      ]
     },
     "execution_count": 34,
     "metadata": {},
     "output_type": "execute_result"
    }
   ],
   "source": [
    "#species\n",
    "#weight\n",
    "#sex\n",
    "\n",
    "weight_sex = np.round(penguins.groupby(['species', 'sex'])['kilo'].mean() , 1)\n",
    "weight_sex"
   ]
  },
  {
   "cell_type": "code",
   "execution_count": 35,
   "id": "efb8d604-2308-4dda-8c8e-09dd8473b2a5",
   "metadata": {},
   "outputs": [
    {
     "data": {
      "text/html": [
       "<div>\n",
       "<style scoped>\n",
       "    .dataframe tbody tr th:only-of-type {\n",
       "        vertical-align: middle;\n",
       "    }\n",
       "\n",
       "    .dataframe tbody tr th {\n",
       "        vertical-align: top;\n",
       "    }\n",
       "\n",
       "    .dataframe thead th {\n",
       "        text-align: right;\n",
       "    }\n",
       "</style>\n",
       "<table border=\"1\" class=\"dataframe\">\n",
       "  <thead>\n",
       "    <tr style=\"text-align: right;\">\n",
       "      <th>sex</th>\n",
       "      <th>female</th>\n",
       "      <th>male</th>\n",
       "    </tr>\n",
       "    <tr>\n",
       "      <th>species</th>\n",
       "      <th></th>\n",
       "      <th></th>\n",
       "    </tr>\n",
       "  </thead>\n",
       "  <tbody>\n",
       "    <tr>\n",
       "      <th>Adelie</th>\n",
       "      <td>3.4</td>\n",
       "      <td>4.0</td>\n",
       "    </tr>\n",
       "    <tr>\n",
       "      <th>Chinstrap</th>\n",
       "      <td>3.5</td>\n",
       "      <td>3.9</td>\n",
       "    </tr>\n",
       "    <tr>\n",
       "      <th>Gentoo</th>\n",
       "      <td>4.7</td>\n",
       "      <td>5.4</td>\n",
       "    </tr>\n",
       "  </tbody>\n",
       "</table>\n",
       "</div>"
      ],
      "text/plain": [
       "sex        female  male\n",
       "species                \n",
       "Adelie        3.4   4.0\n",
       "Chinstrap     3.5   3.9\n",
       "Gentoo        4.7   5.4"
      ]
     },
     "execution_count": 35,
     "metadata": {},
     "output_type": "execute_result"
    }
   ],
   "source": [
    "weight_sex.unstack()"
   ]
  },
  {
   "cell_type": "markdown",
   "id": "57c4b47e-231c-4d40-9ffa-aacc5f8eff2b",
   "metadata": {},
   "source": [
    "<h3> male penguin is heavier in terms of sex. </h3>"
   ]
  },
  {
   "cell_type": "markdown",
   "id": "f5a728da-d5a7-4045-ad71-f2c5ac47719e",
   "metadata": {},
   "source": [
    "<h1> INSIGHT NO.10 </h1>\n",
    "<h3> What year has the highest recorded weight for male and female </h3>"
   ]
  },
  {
   "cell_type": "code",
   "execution_count": 36,
   "id": "426c3cf6-e96c-4a53-9042-10a33ccee79d",
   "metadata": {},
   "outputs": [
    {
     "data": {
      "text/html": [
       "<div>\n",
       "<style scoped>\n",
       "    .dataframe tbody tr th:only-of-type {\n",
       "        vertical-align: middle;\n",
       "    }\n",
       "\n",
       "    .dataframe tbody tr th {\n",
       "        vertical-align: top;\n",
       "    }\n",
       "\n",
       "    .dataframe thead th {\n",
       "        text-align: right;\n",
       "    }\n",
       "</style>\n",
       "<table border=\"1\" class=\"dataframe\">\n",
       "  <thead>\n",
       "    <tr style=\"text-align: right;\">\n",
       "      <th></th>\n",
       "      <th>year</th>\n",
       "      <th>2007</th>\n",
       "      <th>2008</th>\n",
       "      <th>2009</th>\n",
       "    </tr>\n",
       "    <tr>\n",
       "      <th>species</th>\n",
       "      <th>sex</th>\n",
       "      <th></th>\n",
       "      <th></th>\n",
       "      <th></th>\n",
       "    </tr>\n",
       "  </thead>\n",
       "  <tbody>\n",
       "    <tr>\n",
       "      <th rowspan=\"2\" valign=\"top\">Adelie</th>\n",
       "      <th>female</th>\n",
       "      <td>3.4</td>\n",
       "      <td>3.4</td>\n",
       "      <td>3.3</td>\n",
       "    </tr>\n",
       "    <tr>\n",
       "      <th>male</th>\n",
       "      <td>3.9</td>\n",
       "      <td>4.1</td>\n",
       "      <td>4.0</td>\n",
       "    </tr>\n",
       "    <tr>\n",
       "      <th rowspan=\"2\" valign=\"top\">Chinstrap</th>\n",
       "      <th>female</th>\n",
       "      <td>3.6</td>\n",
       "      <td>3.5</td>\n",
       "      <td>3.5</td>\n",
       "    </tr>\n",
       "    <tr>\n",
       "      <th>male</th>\n",
       "      <td>3.8</td>\n",
       "      <td>4.1</td>\n",
       "      <td>3.9</td>\n",
       "    </tr>\n",
       "    <tr>\n",
       "      <th rowspan=\"2\" valign=\"top\">Gentoo</th>\n",
       "      <th>female</th>\n",
       "      <td>4.6</td>\n",
       "      <td>4.6</td>\n",
       "      <td>4.8</td>\n",
       "    </tr>\n",
       "    <tr>\n",
       "      <th>male</th>\n",
       "      <td>5.5</td>\n",
       "      <td>5.4</td>\n",
       "      <td>5.4</td>\n",
       "    </tr>\n",
       "  </tbody>\n",
       "</table>\n",
       "</div>"
      ],
      "text/plain": [
       "year              2007  2008  2009\n",
       "species   sex                     \n",
       "Adelie    female   3.4   3.4   3.3\n",
       "          male     3.9   4.1   4.0\n",
       "Chinstrap female   3.6   3.5   3.5\n",
       "          male     3.8   4.1   3.9\n",
       "Gentoo    female   4.6   4.6   4.8\n",
       "          male     5.5   5.4   5.4"
      ]
     },
     "execution_count": 36,
     "metadata": {},
     "output_type": "execute_result"
    }
   ],
   "source": [
    "weight_sex = np.round(penguins.groupby(['species', 'sex', 'year'])['kilo'].mean() , 1)\n",
    "weight_sex.unstack()"
   ]
  },
  {
   "cell_type": "markdown",
   "id": "6299c5f6-fd49-43e8-9bf4-78405f72b82f",
   "metadata": {},
   "source": [
    "<h3> 2008 has the highest recorded weight for female while 2007 has the highest weight recorded for male. </h3>"
   ]
  },
  {
   "cell_type": "markdown",
   "id": "f5188f0c-da18-4155-978b-0e77d6165b52",
   "metadata": {},
   "source": [
    "<h1> Correlation vs Causation </h1>\n",
    "<h2> Correlation between Bill Length and Bill Depth </h2>\n",
    "<h1> P VALUE in Statistics </h1>\n",
    "<h2>  </h2>"
   ]
  },
  {
   "cell_type": "code",
   "execution_count": 37,
   "id": "2be53d94-d998-4330-86c8-49e98c250b7b",
   "metadata": {},
   "outputs": [
    {
     "data": {
      "text/plain": [
       "np.float64(-0.23463545677388215)"
      ]
     },
     "execution_count": 37,
     "metadata": {},
     "output_type": "execute_result"
    }
   ],
   "source": [
    "corr_ld = penguins['bill_length_mm'].corr(penguins['bill_depth_mm'])\n",
    "corr_ld"
   ]
  },
  {
   "cell_type": "markdown",
   "id": "faada719-acef-42f5-b5f6-e44ea76eed23",
   "metadata": {},
   "source": [
    "<h3> There is no Correlation between Bill Depth and Bill Length </h3>"
   ]
  },
  {
   "cell_type": "markdown",
   "id": "e6520a51-3cae-4e62-8b65-5e8f72397b0d",
   "metadata": {},
   "source": [
    "<h1> INSIGHT No.12 </h1>\n",
    "<h2> Correlation between Flipper length and Bill Depth </h2>"
   ]
  },
  {
   "cell_type": "code",
   "execution_count": 38,
   "id": "4b03561b-6912-435b-8ebe-e0cccf22fd3d",
   "metadata": {},
   "outputs": [
    {
     "data": {
      "text/plain": [
       "np.float64(-0.5824724275889581)"
      ]
     },
     "execution_count": 38,
     "metadata": {},
     "output_type": "execute_result"
    }
   ],
   "source": [
    "corr_fb = penguins['flipper_length_mm'].corr(penguins['bill_depth_mm'])\n",
    "corr_fb"
   ]
  },
  {
   "cell_type": "markdown",
   "id": "fdd20060-fb89-46b2-8877-0fe12136250d",
   "metadata": {},
   "source": [
    "<h3> There is Correlation between Flipper length and Bill Depth </h3>"
   ]
  },
  {
   "cell_type": "markdown",
   "id": "643ff052-e657-49b3-8a1d-d680d8617bb7",
   "metadata": {},
   "source": [
    "<h1> INSIGHT No.13 </h1>\n",
    "<h2> Correlation between Flipper length and Body Mass </h2>"
   ]
  },
  {
   "cell_type": "code",
   "execution_count": 39,
   "id": "250b6d4d-43be-4ce4-a978-3e7ad60ca90c",
   "metadata": {},
   "outputs": [
    {
     "data": {
      "text/plain": [
       "np.float64(0.8712959378420688)"
      ]
     },
     "execution_count": 39,
     "metadata": {},
     "output_type": "execute_result"
    }
   ],
   "source": [
    "corr_fb = penguins['flipper_length_mm'].corr(penguins['kilo'])\n",
    "corr_fb"
   ]
  },
  {
   "cell_type": "markdown",
   "id": "30f6c8bc-0de6-404b-bcdf-c25d0fdff127",
   "metadata": {},
   "source": [
    "<h3> There is Correlation between Flipper length and Body Mass  </h3>"
   ]
  },
  {
   "cell_type": "markdown",
   "id": "c11928d3-8fa2-4ed5-ad9e-77be9d3dd8f9",
   "metadata": {},
   "source": [
    "<h1> INSIGHT No.14 </h1>\n",
    "<h2> Correlation between Bill Length and Body Mass </h2>"
   ]
  },
  {
   "cell_type": "code",
   "execution_count": 40,
   "id": "94702e28-b5af-4ced-ab63-b465bde56e00",
   "metadata": {},
   "outputs": [
    {
     "data": {
      "text/plain": [
       "np.float64(0.5957344470044195)"
      ]
     },
     "execution_count": 40,
     "metadata": {},
     "output_type": "execute_result"
    }
   ],
   "source": [
    "corr_bb = penguins['bill_length_mm'].corr(penguins['kilo'])\n",
    "corr_bb"
   ]
  },
  {
   "cell_type": "markdown",
   "id": "7729e701-4e51-4589-a62f-85446d05ec01",
   "metadata": {},
   "source": [
    "<h3> There is Correlation between Bill Length and Body Mass </h3>"
   ]
  },
  {
   "cell_type": "markdown",
   "id": "072bab9a-89c0-478c-824d-d7d39f2aea83",
   "metadata": {},
   "source": [
    "<h1> Correlation Analysis between Qualitative and Quantitative Data </h1>"
   ]
  },
  {
   "cell_type": "markdown",
   "id": "88e4e0d5-4a52-497a-a4ab-98df6a1a4c11",
   "metadata": {},
   "source": [
    "<h3> Use One Way of Anova </h3>"
   ]
  },
  {
   "cell_type": "markdown",
   "id": "9064a9fa-b6b7-44ee-94fc-89baa075ceb8",
   "metadata": {},
   "source": [
    "<h1> Science Python Library  </h1>"
   ]
  },
  {
   "cell_type": "code",
   "execution_count": 41,
   "id": "44a996f1-ab74-42d0-a7ea-2389baf3f876",
   "metadata": {},
   "outputs": [],
   "source": [
    "from scipy.stats import f_oneway"
   ]
  },
  {
   "cell_type": "code",
   "execution_count": 43,
   "id": "163c9a7e-defc-47a4-b0d3-ab227aaf4929",
   "metadata": {},
   "outputs": [
    {
     "data": {
      "text/plain": [
       "0      3750.0\n",
       "3      3800.0\n",
       "5      3650.0\n",
       "7      4675.0\n",
       "8      3475.0\n",
       "        ...  \n",
       "334    3800.0\n",
       "336    3950.0\n",
       "339    4000.0\n",
       "341    3775.0\n",
       "342    4100.0\n",
       "Name: body_mass_g, Length: 179, dtype: float64"
      ]
     },
     "execution_count": 43,
     "metadata": {},
     "output_type": "execute_result"
    }
   ],
   "source": [
    "penguins[penguins['sex'] == 'male']['body_mass_g']"
   ]
  },
  {
   "cell_type": "markdown",
   "id": "fcbdf55e-b577-48e3-b5f2-2b05d3028755",
   "metadata": {},
   "source": [
    "<h1> Testing the Correlation between Sex and Body mass </h1>"
   ]
  },
  {
   "cell_type": "code",
   "execution_count": 46,
   "id": "d314cf45-d455-4f2d-91a0-a04d97df0709",
   "metadata": {},
   "outputs": [
    {
     "data": {
      "text/plain": [
       "np.float64(5.108550074150804e-15)"
      ]
     },
     "execution_count": 46,
     "metadata": {},
     "output_type": "execute_result"
    }
   ],
   "source": [
    "f_stats , p_value = f_oneway(penguins[penguins['sex'] == 'male']['body_mass_g'],\n",
    "                            penguins[penguins['sex'] == 'female']['body_mass_g'])\n",
    "p_value"
   ]
  },
  {
   "cell_type": "markdown",
   "id": "ced2fdfb-4331-46e9-bb5f-49b6d3d02015",
   "metadata": {},
   "source": [
    "<h2> Insight No.15 </h2>"
   ]
  },
  {
   "cell_type": "markdown",
   "id": "0e4f29b3-8d84-468d-825b-96327e33053a",
   "metadata": {},
   "source": [
    "<h3> There is Strong Correlation between Sex and Body Mass </h3>"
   ]
  },
  {
   "cell_type": "markdown",
   "id": "24138cf3-c9c8-4be4-8865-f792d46f2fc0",
   "metadata": {},
   "source": [
    "<h1> Testing the Correlation between Sex and Flipper Length </h1>"
   ]
  },
  {
   "cell_type": "code",
   "execution_count": 48,
   "id": "eaf67f4e-4a05-4c59-a9cb-82d158ad8d91",
   "metadata": {},
   "outputs": [
    {
     "data": {
      "text/plain": [
       "np.float64(7.5478102097708e-06)"
      ]
     },
     "execution_count": 48,
     "metadata": {},
     "output_type": "execute_result"
    }
   ],
   "source": [
    "f_stats , p_value = f_oneway(penguins[penguins['sex'] == 'male']['flipper_length_mm'],\n",
    "                            penguins[penguins['sex'] == 'female']['flipper_length_mm'])\n",
    "p_value"
   ]
  },
  {
   "cell_type": "markdown",
   "id": "7bf40c46-d4ac-4750-915d-6187d64236b8",
   "metadata": {},
   "source": [
    "<h2> Insight No.16 </h2>"
   ]
  },
  {
   "cell_type": "markdown",
   "id": "db240461-e9ab-4269-99de-6f8e99b3c6fa",
   "metadata": {},
   "source": [
    "<h3> There is Strong Correlation between Sex and Body Mass </h3>"
   ]
  }
 ],
 "metadata": {
  "kernelspec": {
   "display_name": "Python 3 (ipykernel)",
   "language": "python",
   "name": "python3"
  },
  "language_info": {
   "codemirror_mode": {
    "name": "ipython",
    "version": 3
   },
   "file_extension": ".py",
   "mimetype": "text/x-python",
   "name": "python",
   "nbconvert_exporter": "python",
   "pygments_lexer": "ipython3",
   "version": "3.13.2"
  }
 },
 "nbformat": 4,
 "nbformat_minor": 5
}
