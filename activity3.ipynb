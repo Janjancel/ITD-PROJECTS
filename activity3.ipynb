{
 "cells": [
  {
   "cell_type": "code",
   "execution_count": 1,
   "id": "8ef91da5-e84a-4d04-a20c-6f32bc6d0be1",
   "metadata": {},
   "outputs": [],
   "source": [
    "import numpy as np\n",
    "import pandas as pd\n",
    "import seaborn as sns\n",
    "import matplotlib.pyplot as plt\n",
    "from scipy.stats import f_oneway\n",
    "import warnings\n",
    "warnings.filterwarnings('ignore')\n",
    "\n",
    "from scipy.stats import f_oneway"
   ]
  },
  {
   "cell_type": "code",
   "execution_count": 2,
   "id": "2f662fb3-354d-4871-9770-8cb6f0d0794e",
   "metadata": {},
   "outputs": [],
   "source": [
    "import pandas as pd\n",
    "\n",
    "accidents = pd.read_csv('datasets\\\\accident_data.csv')"
   ]
  },
  {
   "cell_type": "code",
   "execution_count": 3,
   "id": "3a8bca71-f17b-4bda-8abe-a13283b9f262",
   "metadata": {},
   "outputs": [
    {
     "name": "stdout",
     "output_type": "stream",
     "text": [
      "<class 'pandas.core.frame.DataFrame'>\n",
      "RangeIndex: 660679 entries, 0 to 660678\n",
      "Data columns (total 14 columns):\n",
      " #   Column                   Non-Null Count   Dtype  \n",
      "---  ------                   --------------   -----  \n",
      " 0   Index                    660679 non-null  object \n",
      " 1   Accident_Severity        660679 non-null  object \n",
      " 2   Accident Date            660679 non-null  object \n",
      " 3   Latitude                 660654 non-null  float64\n",
      " 4   Light_Conditions         660679 non-null  object \n",
      " 5   District Area            660679 non-null  object \n",
      " 6   Longitude                660653 non-null  float64\n",
      " 7   Number_of_Casualties     660679 non-null  int64  \n",
      " 8   Number_of_Vehicles       660679 non-null  int64  \n",
      " 9   Road_Surface_Conditions  659953 non-null  object \n",
      " 10  Road_Type                656159 non-null  object \n",
      " 11  Urban_or_Rural_Area      660664 non-null  object \n",
      " 12  Weather_Conditions       646551 non-null  object \n",
      " 13  Vehicle_Type             660679 non-null  object \n",
      "dtypes: float64(2), int64(2), object(10)\n",
      "memory usage: 70.6+ MB\n"
     ]
    }
   ],
   "source": [
    "accidents.info()"
   ]
  },
  {
   "cell_type": "code",
   "execution_count": 4,
   "id": "a664ffc3-300f-466c-a884-54e7f010c777",
   "metadata": {},
   "outputs": [
    {
     "data": {
      "text/html": [
       "<div>\n",
       "<style scoped>\n",
       "    .dataframe tbody tr th:only-of-type {\n",
       "        vertical-align: middle;\n",
       "    }\n",
       "\n",
       "    .dataframe tbody tr th {\n",
       "        vertical-align: top;\n",
       "    }\n",
       "\n",
       "    .dataframe thead th {\n",
       "        text-align: right;\n",
       "    }\n",
       "</style>\n",
       "<table border=\"1\" class=\"dataframe\">\n",
       "  <thead>\n",
       "    <tr style=\"text-align: right;\">\n",
       "      <th></th>\n",
       "      <th>Latitude</th>\n",
       "      <th>Longitude</th>\n",
       "      <th>Number_of_Casualties</th>\n",
       "      <th>Number_of_Vehicles</th>\n",
       "    </tr>\n",
       "  </thead>\n",
       "  <tbody>\n",
       "    <tr>\n",
       "      <th>count</th>\n",
       "      <td>660654.000000</td>\n",
       "      <td>660653.000000</td>\n",
       "      <td>660679.000000</td>\n",
       "      <td>660679.000000</td>\n",
       "    </tr>\n",
       "    <tr>\n",
       "      <th>mean</th>\n",
       "      <td>52.553866</td>\n",
       "      <td>-1.431210</td>\n",
       "      <td>1.357040</td>\n",
       "      <td>1.831255</td>\n",
       "    </tr>\n",
       "    <tr>\n",
       "      <th>std</th>\n",
       "      <td>1.406922</td>\n",
       "      <td>1.383330</td>\n",
       "      <td>0.824847</td>\n",
       "      <td>0.715269</td>\n",
       "    </tr>\n",
       "    <tr>\n",
       "      <th>min</th>\n",
       "      <td>49.914430</td>\n",
       "      <td>-7.516225</td>\n",
       "      <td>1.000000</td>\n",
       "      <td>1.000000</td>\n",
       "    </tr>\n",
       "    <tr>\n",
       "      <th>25%</th>\n",
       "      <td>51.490690</td>\n",
       "      <td>-2.332291</td>\n",
       "      <td>1.000000</td>\n",
       "      <td>1.000000</td>\n",
       "    </tr>\n",
       "    <tr>\n",
       "      <th>50%</th>\n",
       "      <td>52.315641</td>\n",
       "      <td>-1.411667</td>\n",
       "      <td>1.000000</td>\n",
       "      <td>2.000000</td>\n",
       "    </tr>\n",
       "    <tr>\n",
       "      <th>75%</th>\n",
       "      <td>53.453452</td>\n",
       "      <td>-0.232869</td>\n",
       "      <td>1.000000</td>\n",
       "      <td>2.000000</td>\n",
       "    </tr>\n",
       "    <tr>\n",
       "      <th>max</th>\n",
       "      <td>60.757544</td>\n",
       "      <td>1.762010</td>\n",
       "      <td>68.000000</td>\n",
       "      <td>32.000000</td>\n",
       "    </tr>\n",
       "  </tbody>\n",
       "</table>\n",
       "</div>"
      ],
      "text/plain": [
       "            Latitude      Longitude  Number_of_Casualties  Number_of_Vehicles\n",
       "count  660654.000000  660653.000000         660679.000000       660679.000000\n",
       "mean       52.553866      -1.431210              1.357040            1.831255\n",
       "std         1.406922       1.383330              0.824847            0.715269\n",
       "min        49.914430      -7.516225              1.000000            1.000000\n",
       "25%        51.490690      -2.332291              1.000000            1.000000\n",
       "50%        52.315641      -1.411667              1.000000            2.000000\n",
       "75%        53.453452      -0.232869              1.000000            2.000000\n",
       "max        60.757544       1.762010             68.000000           32.000000"
      ]
     },
     "execution_count": 4,
     "metadata": {},
     "output_type": "execute_result"
    }
   ],
   "source": [
    "accidents.describe()"
   ]
  },
  {
   "cell_type": "code",
   "execution_count": 5,
   "id": "6ea308e9-8760-474f-b03a-9eb9691b9393",
   "metadata": {},
   "outputs": [
    {
     "name": "stdout",
     "output_type": "stream",
     "text": [
      "Index                      category\n",
      "Accident_Severity          category\n",
      "Accident Date              category\n",
      "Latitude                    float64\n",
      "Light_Conditions           category\n",
      "District Area              category\n",
      "Longitude                   float64\n",
      "Number_of_Casualties          int64\n",
      "Number_of_Vehicles            int64\n",
      "Road_Surface_Conditions    category\n",
      "Road_Type                  category\n",
      "Urban_or_Rural_Area        category\n",
      "Weather_Conditions         category\n",
      "Vehicle_Type               category\n",
      "dtype: object\n"
     ]
    }
   ],
   "source": [
    "### Change the data types to category\n",
    "categorical_columns = [\n",
    "    'Index', 'Accident_Severity', 'Accident Date', 'Light_Conditions', \n",
    "    'District Area', 'Road_Surface_Conditions', 'Road_Type', \n",
    "    'Urban_or_Rural_Area', 'Weather_Conditions', 'Vehicle_Type'\n",
    "]\n",
    "\n",
    "for col in categorical_columns:\n",
    "    accidents[col] = accidents[col].astype('category')\n",
    "\n",
    "# Check the new data types\n",
    "print(accidents.dtypes)"
   ]
  },
  {
   "cell_type": "code",
   "execution_count": 6,
   "id": "7704dc81-ebc1-4f56-a9ed-a0900757fe30",
   "metadata": {},
   "outputs": [
    {
     "data": {
      "text/plain": [
       "Index                          0\n",
       "Accident_Severity              0\n",
       "Accident Date                  0\n",
       "Latitude                      25\n",
       "Light_Conditions               0\n",
       "District Area                  0\n",
       "Longitude                     26\n",
       "Number_of_Casualties           0\n",
       "Number_of_Vehicles             0\n",
       "Road_Surface_Conditions      726\n",
       "Road_Type                   4520\n",
       "Urban_or_Rural_Area           15\n",
       "Weather_Conditions         14128\n",
       "Vehicle_Type                   0\n",
       "dtype: int64"
      ]
     },
     "execution_count": 6,
     "metadata": {},
     "output_type": "execute_result"
    }
   ],
   "source": [
    "accidents.isnull().sum()"
   ]
  },
  {
   "cell_type": "markdown",
   "id": "11833e2c-b28f-4f7d-85a0-81b205434d4b",
   "metadata": {},
   "source": [
    "<h1> Filling up Null Values </h1>"
   ]
  },
  {
   "cell_type": "code",
   "execution_count": 7,
   "id": "7f3ecd96-4da1-47e8-b658-2e21afb38947",
   "metadata": {},
   "outputs": [
    {
     "data": {
      "text/plain": [
       "Index                          0\n",
       "Accident_Severity              0\n",
       "Accident Date                  0\n",
       "Latitude                       0\n",
       "Light_Conditions               0\n",
       "District Area                  0\n",
       "Longitude                      0\n",
       "Number_of_Casualties           0\n",
       "Number_of_Vehicles             0\n",
       "Road_Surface_Conditions        0\n",
       "Road_Type                      0\n",
       "Urban_or_Rural_Area            0\n",
       "Weather_Conditions         14128\n",
       "Vehicle_Type                   0\n",
       "dtype: int64"
      ]
     },
     "execution_count": 7,
     "metadata": {},
     "output_type": "execute_result"
    }
   ],
   "source": [
    "accidents['Accident Date'] = accidents['Accident Date'].fillna(accidents['Accident Date'].mode()[0])\n",
    "accidents['Latitude'] = accidents['Latitude'].fillna(accidents['Latitude'].mode()[0])\n",
    "accidents['Longitude'] = accidents['Longitude'].fillna(accidents['Longitude'].mode()[0])\n",
    "accidents['Road_Surface_Conditions'] = accidents['Road_Surface_Conditions'].fillna(accidents['Road_Surface_Conditions'].mode()[0])\n",
    "accidents['Road_Type'] = accidents['Road_Type'].fillna(accidents['Road_Type'].mode()[0])\n",
    "accidents['Urban_or_Rural_Area'] = accidents['Urban_or_Rural_Area'].fillna(accidents['Urban_or_Rural_Area'].mode()[0])\n",
    "accidents['Weather_Conditions'] = accidents['Weather_Conditions'].replace({None: 'Unknown'})\n",
    "accidents.isnull().sum()"
   ]
  },
  {
   "cell_type": "code",
   "execution_count": 8,
   "id": "903f15ae-4914-4351-ab37-d6290b18c6a4",
   "metadata": {},
   "outputs": [
    {
     "data": {
      "text/plain": [
       "Index                      category\n",
       "Accident_Severity          category\n",
       "Accident Date              category\n",
       "Latitude                    float64\n",
       "Light_Conditions           category\n",
       "District Area              category\n",
       "Longitude                   float64\n",
       "Number_of_Casualties          int64\n",
       "Number_of_Vehicles            int64\n",
       "Road_Surface_Conditions    category\n",
       "Road_Type                  category\n",
       "Urban_or_Rural_Area        category\n",
       "Weather_Conditions         category\n",
       "Vehicle_Type               category\n",
       "dtype: object"
      ]
     },
     "execution_count": 8,
     "metadata": {},
     "output_type": "execute_result"
    }
   ],
   "source": [
    "accidents.dtypes"
   ]
  },
  {
   "cell_type": "code",
   "execution_count": 9,
   "id": "eeb17f8c-2d66-4786-8058-d44480e727f1",
   "metadata": {},
   "outputs": [
    {
     "data": {
      "text/plain": [
       "Index                            category\n",
       "Accident_Severity                category\n",
       "Accident Date              datetime64[ns]\n",
       "Latitude                          float64\n",
       "Light_Conditions                 category\n",
       "District Area                    category\n",
       "Longitude                         float64\n",
       "Number_of_Casualties                int64\n",
       "Number_of_Vehicles                  int64\n",
       "Road_Surface_Conditions          category\n",
       "Road_Type                        category\n",
       "Urban_or_Rural_Area              category\n",
       "Weather_Conditions               category\n",
       "Vehicle_Type                     category\n",
       "dtype: object"
      ]
     },
     "execution_count": 9,
     "metadata": {},
     "output_type": "execute_result"
    }
   ],
   "source": [
    "accidents['Accident Date'] = pd.to_datetime(accidents['Accident Date'], dayfirst = True, errors='coerce')\n",
    "accidents.dtypes"
   ]
  },
  {
   "cell_type": "markdown",
   "id": "b8544b70-3f29-4063-a250-afe922b26ea4",
   "metadata": {},
   "source": [
    "<h1> 1. Does the Weather Condition affect the Accident Severity? </h1>"
   ]
  },
  {
   "cell_type": "code",
   "execution_count": 10,
   "id": "bd740914-5170-4291-8fb5-fabfc77ee6e3",
   "metadata": {},
   "outputs": [
    {
     "data": {
      "text/html": [
       "<div>\n",
       "<style scoped>\n",
       "    .dataframe tbody tr th:only-of-type {\n",
       "        vertical-align: middle;\n",
       "    }\n",
       "\n",
       "    .dataframe tbody tr th {\n",
       "        vertical-align: top;\n",
       "    }\n",
       "\n",
       "    .dataframe thead th {\n",
       "        text-align: right;\n",
       "    }\n",
       "</style>\n",
       "<table border=\"1\" class=\"dataframe\">\n",
       "  <thead>\n",
       "    <tr style=\"text-align: right;\">\n",
       "      <th>Accident_Severity</th>\n",
       "      <th>Fatal</th>\n",
       "      <th>Serious</th>\n",
       "      <th>Slight</th>\n",
       "    </tr>\n",
       "    <tr>\n",
       "      <th>Weather_Conditions</th>\n",
       "      <th></th>\n",
       "      <th></th>\n",
       "      <th></th>\n",
       "    </tr>\n",
       "  </thead>\n",
       "  <tbody>\n",
       "    <tr>\n",
       "      <th>Fine + high winds</th>\n",
       "      <td>175</td>\n",
       "      <td>1245</td>\n",
       "      <td>7134</td>\n",
       "    </tr>\n",
       "    <tr>\n",
       "      <th>Fine no high winds</th>\n",
       "      <td>7100</td>\n",
       "      <td>72046</td>\n",
       "      <td>441739</td>\n",
       "    </tr>\n",
       "    <tr>\n",
       "      <th>Fog or mist</th>\n",
       "      <td>82</td>\n",
       "      <td>483</td>\n",
       "      <td>2963</td>\n",
       "    </tr>\n",
       "    <tr>\n",
       "      <th>Other</th>\n",
       "      <td>165</td>\n",
       "      <td>1801</td>\n",
       "      <td>15184</td>\n",
       "    </tr>\n",
       "    <tr>\n",
       "      <th>Raining + high winds</th>\n",
       "      <td>145</td>\n",
       "      <td>1261</td>\n",
       "      <td>8209</td>\n",
       "    </tr>\n",
       "    <tr>\n",
       "      <th>Raining no high winds</th>\n",
       "      <td>848</td>\n",
       "      <td>9468</td>\n",
       "      <td>69380</td>\n",
       "    </tr>\n",
       "    <tr>\n",
       "      <th>Snowing + high winds</th>\n",
       "      <td>3</td>\n",
       "      <td>109</td>\n",
       "      <td>773</td>\n",
       "    </tr>\n",
       "    <tr>\n",
       "      <th>Snowing no high winds</th>\n",
       "      <td>36</td>\n",
       "      <td>565</td>\n",
       "      <td>5637</td>\n",
       "    </tr>\n",
       "  </tbody>\n",
       "</table>\n",
       "</div>"
      ],
      "text/plain": [
       "Accident_Severity      Fatal  Serious  Slight\n",
       "Weather_Conditions                           \n",
       "Fine + high winds        175     1245    7134\n",
       "Fine no high winds      7100    72046  441739\n",
       "Fog or mist               82      483    2963\n",
       "Other                    165     1801   15184\n",
       "Raining + high winds     145     1261    8209\n",
       "Raining no high winds    848     9468   69380\n",
       "Snowing + high winds       3      109     773\n",
       "Snowing no high winds     36      565    5637"
      ]
     },
     "execution_count": 10,
     "metadata": {},
     "output_type": "execute_result"
    }
   ],
   "source": [
    "q1 = accidents.groupby(['Weather_Conditions', 'Accident_Severity']).size()\n",
    "q1.unstack()"
   ]
  },
  {
   "cell_type": "markdown",
   "id": "11b48978-82b4-4960-9b7a-8e572d9634d5",
   "metadata": {},
   "source": [
    "<h3> Insight No.1 Fine no high winds: This category has the highest number of accidents in all severity levels (Fatal, Serious, and Slight). It suggests that even without high winds, fine weather can still be associated with a high number of accidents, possibly due to increased traffic or higher speeds. </h3>"
   ]
  },
  {
   "cell_type": "markdown",
   "id": "789b2aeb-9123-4721-9737-79ff9bb79184",
   "metadata": {},
   "source": [
    "<h3> Insight No.2 Fine + high winds: This condition also shows a significant number of accidents, although lower compared to fine weather without high winds. </h3>"
   ]
  },
  {
   "cell_type": "markdown",
   "id": "f3628567-6f8e-48b4-b136-35874d5c84c9",
   "metadata": {},
   "source": [
    "<h1> 2. What is the distribution of vehicle types involved in accidents? </h1>"
   ]
  },
  {
   "cell_type": "code",
   "execution_count": 11,
   "id": "5366823d-7c04-4855-bfb9-7b269b8f9312",
   "metadata": {},
   "outputs": [
    {
     "data": {
      "text/plain": [
       "Vehicle_Type\n",
       "Car                                      497992\n",
       "Van / Goods 3.5 tonnes mgw or under       34160\n",
       "Bus or coach (17 or more pass seats)      25878\n",
       "Motorcycle over 500cc                     25657\n",
       "Goods 7.5 tonnes mgw and over             17307\n",
       "Motorcycle 125cc and under                15269\n",
       "Taxi/Private hire car                     13294\n",
       "Motorcycle over 125cc and up to 500cc      7656\n",
       "Motorcycle 50cc and under                  7603\n",
       "Goods over 3.5t. and under 7.5t            6096\n",
       "Other vehicle                              5637\n",
       "Minibus (8 - 16 passenger seats)           1976\n",
       "Agricultural vehicle                       1947\n",
       "Pedal cycle                                 197\n",
       "Data missing or out of range                  6\n",
       "Ridden horse                                  4\n",
       "Name: count, dtype: int64"
      ]
     },
     "execution_count": 11,
     "metadata": {},
     "output_type": "execute_result"
    }
   ],
   "source": [
    "q2 = accidents['Vehicle_Type'].value_counts()\n",
    "q2"
   ]
  },
  {
   "cell_type": "markdown",
   "id": "4140a23c-58e7-4d7b-941e-5f31407dc595",
   "metadata": {},
   "source": [
    "<h3> Insight No. 3 Cars are the most common vehicle type in accidents, likely due to their high prevalence on the roads. </h3>"
   ]
  },
  {
   "cell_type": "markdown",
   "id": "8a149aad-1d5f-476e-b9c2-391fb1235496",
   "metadata": {},
   "source": [
    "<h3> Insight No.4 Commercial Vehicles like vans, goods vehicles under 3.5 tonnes, and taxis/private hire cars also feature prominently, probably because they spend a lot of time in high-traffic areas. </h3>"
   ]
  },
  {
   "cell_type": "markdown",
   "id": "bea690df-71e5-4168-9b14-25d6032b5823",
   "metadata": {},
   "source": [
    "<h3> Insight No.5 Motorcycles are involved in a significant number of accidents, with various types (over 500cc, 125cc and under, 50cc and under) showing notable figures. </h3>"
   ]
  },
  {
   "cell_type": "markdown",
   "id": "fe760ec9-9143-4166-91d2-c21f555de56a",
   "metadata": {},
   "source": [
    "<h3> Insight No.6 Public Transport and Large Vehicles such as buses/coaches with 17 or more passenger seats and goods vehicles over 7.5 tonnes also have significant accident rates, likely due to their size and difficulty in maneuvering. </h3>"
   ]
  },
  {
   "cell_type": "markdown",
   "id": "6f5966c5-b5de-42fe-891e-2c7cea15f29a",
   "metadata": {},
   "source": [
    "<h3> Insight No. 7 Other Vehicles including minibuses, agricultural vehicles, and pedal cycles show lower numbers, possibly due to their lower presence on the roads. </h3>"
   ]
  },
  {
   "cell_type": "markdown",
   "id": "2eb9987b-ab69-4521-ad7f-07e0d2a2525c",
   "metadata": {},
   "source": [
    "<h3> Insight No. 8 Rare Vehicle Types like ridden horses and data with missing/out-of-range information make up a very small fraction of accidents. </h3>"
   ]
  },
  {
   "cell_type": "markdown",
   "id": "f8150127-43f3-4daa-b515-f8333e20810a",
   "metadata": {},
   "source": [
    "<h1> 3. What are the common weather conditions during vehicle accidents? </h1>"
   ]
  },
  {
   "cell_type": "code",
   "execution_count": 12,
   "id": "de49c2e1-45a2-4426-b682-ca6b9f251e3d",
   "metadata": {},
   "outputs": [
    {
     "data": {
      "text/plain": [
       "Weather_Conditions\n",
       "Fine no high winds       520885\n",
       "Raining no high winds     79696\n",
       "Other                     17150\n",
       "Raining + high winds       9615\n",
       "Fine + high winds          8554\n",
       "Snowing no high winds      6238\n",
       "Fog or mist                3528\n",
       "Snowing + high winds        885\n",
       "Name: count, dtype: int64"
      ]
     },
     "execution_count": 12,
     "metadata": {},
     "output_type": "execute_result"
    }
   ],
   "source": [
    "weather_conditions_distribution = accidents['Weather_Conditions'].value_counts()\n",
    "weather_conditions_distribution"
   ]
  },
  {
   "cell_type": "markdown",
   "id": "008254e7-f6f4-466d-b465-e01334cf01e9",
   "metadata": {},
   "source": [
    "<h3> Fine no high winds has the most accident occured amongst all weather conditions </h3>"
   ]
  },
  {
   "cell_type": "markdown",
   "id": "08a28f3c-d032-4b90-86f4-69fc0e60534a",
   "metadata": {},
   "source": [
    "<h1> 4.How many accidents occurred on each date? </h1>"
   ]
  },
  {
   "cell_type": "code",
   "execution_count": 13,
   "id": "d0c7b7af-7574-404a-be95-3ff15499518c",
   "metadata": {},
   "outputs": [
    {
     "data": {
      "text/plain": [
       "Accident Date\n",
       "2021-02-11    685\n",
       "2021-10-06    680\n",
       "2019-12-06    678\n",
       "2019-02-01    676\n",
       "2021-12-04    667\n",
       "             ... \n",
       "2022-01-09    236\n",
       "2022-12-02    236\n",
       "2022-04-05    231\n",
       "2022-02-07    213\n",
       "2022-01-10    123\n",
       "Name: count, Length: 576, dtype: int64"
      ]
     },
     "execution_count": 13,
     "metadata": {},
     "output_type": "execute_result"
    }
   ],
   "source": [
    "accidents_per_date = accidents['Accident Date'].value_counts()\n",
    "accidents_per_date"
   ]
  },
  {
   "cell_type": "markdown",
   "id": "6754d585-a853-4d99-af0b-dba281d81dbe",
   "metadata": {},
   "source": [
    "<h3> 2021-02-11 has the most number of accidents in each date </h3>"
   ]
  },
  {
   "cell_type": "markdown",
   "id": "8c0b14f4-184e-4847-aa37-ca2c674dd698",
   "metadata": {},
   "source": [
    "<h1> 5.What are the common light conditions during accidents? </h1>"
   ]
  },
  {
   "cell_type": "code",
   "execution_count": 14,
   "id": "9b7405cd-ac0d-4909-a841-3eb59bf13c33",
   "metadata": {},
   "outputs": [
    {
     "data": {
      "text/plain": [
       "Light_Conditions\n",
       "Daylight                       484880\n",
       "Darkness - lights lit          129335\n",
       "Darkness - no lighting          37437\n",
       "Darkness - lighting unknown      6484\n",
       "Darkness - lights unlit          2543\n",
       "Name: count, dtype: int64"
      ]
     },
     "execution_count": 14,
     "metadata": {},
     "output_type": "execute_result"
    }
   ],
   "source": [
    "light_conditions_distribution = accidents['Light_Conditions'].value_counts()\n",
    "light_conditions_distribution"
   ]
  },
  {
   "cell_type": "markdown",
   "id": "f15046e7-af52-470a-8734-f8b2eb338257",
   "metadata": {},
   "source": [
    "<h3> Accidents mostly occured in Daylight </h3>"
   ]
  },
  {
   "cell_type": "markdown",
   "id": "b8473097-5dec-4e3a-92f1-dc78e4bc61da",
   "metadata": {},
   "source": [
    "<h1> 6.Which district areas have the highest number of accidents? </h1>"
   ]
  },
  {
   "cell_type": "code",
   "execution_count": 15,
   "id": "655cf2a0-86d5-4c28-b148-04293ecb994e",
   "metadata": {},
   "outputs": [
    {
     "data": {
      "text/plain": [
       "District Area\n",
       "Birmingham            13491\n",
       "Leeds                  8898\n",
       "Manchester             6720\n",
       "Bradford               6212\n",
       "Sheffield              5710\n",
       "                      ...  \n",
       "Berwick-upon-Tweed      153\n",
       "Teesdale                142\n",
       "Shetland Islands        133\n",
       "Orkney Islands          117\n",
       "Clackmannanshire         91\n",
       "Name: count, Length: 422, dtype: int64"
      ]
     },
     "execution_count": 15,
     "metadata": {},
     "output_type": "execute_result"
    }
   ],
   "source": [
    "district_accidents = accidents['District Area'].value_counts()\n",
    "district_accidents"
   ]
  },
  {
   "cell_type": "markdown",
   "id": "95e536a1-1dde-403b-a1f4-83422cb12935",
   "metadata": {},
   "source": [
    "<h3> Birmingham has the most number of accidents with 13491 cases </h3>"
   ]
  },
  {
   "cell_type": "markdown",
   "id": "f5c7eaa3-7e11-4332-8ce7-589019f14019",
   "metadata": {},
   "source": [
    "<h1> 7. How does the number of casualties vary with the severity of accidents? </h1>"
   ]
  },
  {
   "cell_type": "code",
   "execution_count": 16,
   "id": "1f8f93ee-f87b-4f1d-9f54-9431c765cab6",
   "metadata": {},
   "outputs": [
    {
     "data": {
      "text/plain": [
       "Accident_Severity\n",
       "Fatal      1.903129\n",
       "Serious    1.467280\n",
       "Slight     1.331402\n",
       "Name: Number_of_Casualties, dtype: float64"
      ]
     },
     "execution_count": 16,
     "metadata": {},
     "output_type": "execute_result"
    }
   ],
   "source": [
    "accidents.groupby('Accident_Severity')['Number_of_Casualties'].mean()"
   ]
  },
  {
   "cell_type": "code",
   "execution_count": null,
   "id": "7b046fe2-1406-4ce5-821f-36a67dfe3a79",
   "metadata": {},
   "outputs": [],
   "source": []
  },
  {
   "cell_type": "markdown",
   "id": "8ede923a-5be3-44a5-84d2-acf3a716b448",
   "metadata": {},
   "source": [
    "<h1> 8. Which district areas have the lowest number of accidents? </h1>"
   ]
  },
  {
   "cell_type": "code",
   "execution_count": 17,
   "id": "4ab1f96b-ada2-46a4-a222-2b6676246b94",
   "metadata": {},
   "outputs": [
    {
     "data": {
      "text/plain": [
       "District Area\n",
       "Birmingham            13491\n",
       "Leeds                  8898\n",
       "Manchester             6720\n",
       "Bradford               6212\n",
       "Sheffield              5710\n",
       "                      ...  \n",
       "Berwick-upon-Tweed      153\n",
       "Teesdale                142\n",
       "Shetland Islands        133\n",
       "Orkney Islands          117\n",
       "Clackmannanshire         91\n",
       "Name: count, Length: 422, dtype: int64"
      ]
     },
     "execution_count": 17,
     "metadata": {},
     "output_type": "execute_result"
    }
   ],
   "source": [
    "district_accidents = accidents['District Area'].value_counts()\n",
    "district_accidents\n"
   ]
  },
  {
   "cell_type": "markdown",
   "id": "4a75abf6-0843-4882-8a87-b0066174d758",
   "metadata": {},
   "source": [
    "<h3> Clackmannanshire has the lowest number of accidents </h3>"
   ]
  },
  {
   "cell_type": "markdown",
   "id": "4234f22f-faa3-41be-b275-27b5101811e2",
   "metadata": {},
   "source": [
    "<h1> 9. Which vehicle type is the safest based on accident severity data? </h1>"
   ]
  },
  {
   "cell_type": "code",
   "execution_count": 18,
   "id": "e0f3ec9e-07fb-44d0-adec-fb5a2ceaffb0",
   "metadata": {},
   "outputs": [
    {
     "data": {
      "text/plain": [
       "(Accident_Severity                      Fatal  Serious  Slight\n",
       " Vehicle_Type                                                 \n",
       " Agricultural vehicle                     1.0     14.0    84.0\n",
       " Bus or coach (17 or more pass seats)     1.0     13.0    86.0\n",
       " Car                                      1.0     13.0    85.0\n",
       " Data missing or out of range             0.0      0.0   100.0\n",
       " Goods 7.5 tonnes mgw and over            1.0     13.0    85.0\n",
       " Goods over 3.5t. and under 7.5t          1.0     14.0    85.0\n",
       " Minibus (8 - 16 passenger seats)         1.0     14.0    85.0\n",
       " Motorcycle 125cc and under               1.0     13.0    85.0\n",
       " Motorcycle 50cc and under                1.0     13.0    85.0\n",
       " Motorcycle over 125cc and up to 500cc    1.0     13.0    85.0\n",
       " Motorcycle over 500cc                    1.0     13.0    85.0\n",
       " Other vehicle                            1.0     14.0    85.0\n",
       " Pedal cycle                              3.0     20.0    77.0\n",
       " Ridden horse                             0.0      0.0   100.0\n",
       " Taxi/Private hire car                    1.0     13.0    86.0\n",
       " Van / Goods 3.5 tonnes mgw or under      1.0     13.0    85.0,\n",
       " 1)"
      ]
     },
     "execution_count": 18,
     "metadata": {},
     "output_type": "execute_result"
    }
   ],
   "source": [
    "vehicle_safety = accidents.groupby('Vehicle_Type')['Accident_Severity'].value_counts(normalize=True).unstack().fillna(0)\n",
    "np.round(vehicle_safety * 100), 1"
   ]
  },
  {
   "cell_type": "markdown",
   "id": "c740cdb0-d8f1-49af-afd2-976d39ef41be",
   "metadata": {},
   "source": [
    "<h3> Most vehicle types have a low fatality rate of 1% and the majority of accidents result in slight injuries. </h3>"
   ]
  },
  {
   "cell_type": "markdown",
   "id": "e4b480b1-0229-42b7-abfc-d9deffb46f2e",
   "metadata": {},
   "source": [
    "<h3> Pedal cycles have a higher fatality rate of 3% and a lower percentage of slight injuries (77%). </h3>"
   ]
  },
  {
   "cell_type": "markdown",
   "id": "7fd187dc-4048-463d-9063-4fde9efd91cd",
   "metadata": {},
   "source": [
    "<h3> Ridden horse accidents have no fatalities and all result in slight injuries (100%). </h3>"
   ]
  },
  {
   "cell_type": "markdown",
   "id": "6afa9bbc-b9cf-4f86-8a71-128a8627f163",
   "metadata": {},
   "source": [
    "<h3> Ridden horse is the most safe </h3>"
   ]
  },
  {
   "cell_type": "markdown",
   "id": "551c0e31-3a91-449a-87a6-fe26ae773c84",
   "metadata": {},
   "source": [
    "<h1> 10. How do accident frequencies vary across different road surface conditions, district areas, and light conditions over time? </h1>"
   ]
  },
  {
   "cell_type": "markdown",
   "id": "3939a99e-d001-4621-82e1-4594ed336a63",
   "metadata": {},
   "source": [
    "<h2> What District Area has the highest accident occur based on light conditions?</h2>"
   ]
  },
  {
   "cell_type": "code",
   "execution_count": 31,
   "id": "1fd20ee2-5cb3-41a3-b1f4-4de2eb126710",
   "metadata": {},
   "outputs": [
    {
     "data": {
      "text/html": [
       "<div>\n",
       "<style scoped>\n",
       "    .dataframe tbody tr th:only-of-type {\n",
       "        vertical-align: middle;\n",
       "    }\n",
       "\n",
       "    .dataframe tbody tr th {\n",
       "        vertical-align: top;\n",
       "    }\n",
       "\n",
       "    .dataframe thead th {\n",
       "        text-align: right;\n",
       "    }\n",
       "</style>\n",
       "<table border=\"1\" class=\"dataframe\">\n",
       "  <thead>\n",
       "    <tr style=\"text-align: right;\">\n",
       "      <th></th>\n",
       "      <th></th>\n",
       "      <th>Light_Conditions</th>\n",
       "      <th>Darkness - lighting unknown</th>\n",
       "      <th>Darkness - lights lit</th>\n",
       "      <th>Darkness - lights unlit</th>\n",
       "      <th>Darkness - no lighting</th>\n",
       "      <th>Daylight</th>\n",
       "    </tr>\n",
       "    <tr>\n",
       "      <th>Month</th>\n",
       "      <th>Road_Surface_Conditions</th>\n",
       "      <th>District Area</th>\n",
       "      <th></th>\n",
       "      <th></th>\n",
       "      <th></th>\n",
       "      <th></th>\n",
       "      <th></th>\n",
       "    </tr>\n",
       "  </thead>\n",
       "  <tbody>\n",
       "    <tr>\n",
       "      <th rowspan=\"5\" valign=\"top\">1.0</th>\n",
       "      <th rowspan=\"5\" valign=\"top\">Dry</th>\n",
       "      <th>Aberdeen City</th>\n",
       "      <td>0</td>\n",
       "      <td>2</td>\n",
       "      <td>0</td>\n",
       "      <td>0</td>\n",
       "      <td>7</td>\n",
       "    </tr>\n",
       "    <tr>\n",
       "      <th>Aberdeenshire</th>\n",
       "      <td>0</td>\n",
       "      <td>4</td>\n",
       "      <td>0</td>\n",
       "      <td>2</td>\n",
       "      <td>3</td>\n",
       "    </tr>\n",
       "    <tr>\n",
       "      <th>Adur</th>\n",
       "      <td>0</td>\n",
       "      <td>1</td>\n",
       "      <td>0</td>\n",
       "      <td>0</td>\n",
       "      <td>6</td>\n",
       "    </tr>\n",
       "    <tr>\n",
       "      <th>Allerdale</th>\n",
       "      <td>0</td>\n",
       "      <td>0</td>\n",
       "      <td>0</td>\n",
       "      <td>1</td>\n",
       "      <td>3</td>\n",
       "    </tr>\n",
       "    <tr>\n",
       "      <th>Alnwick</th>\n",
       "      <td>0</td>\n",
       "      <td>0</td>\n",
       "      <td>0</td>\n",
       "      <td>0</td>\n",
       "      <td>0</td>\n",
       "    </tr>\n",
       "    <tr>\n",
       "      <th>...</th>\n",
       "      <th>...</th>\n",
       "      <th>...</th>\n",
       "      <td>...</td>\n",
       "      <td>...</td>\n",
       "      <td>...</td>\n",
       "      <td>...</td>\n",
       "      <td>...</td>\n",
       "    </tr>\n",
       "    <tr>\n",
       "      <th rowspan=\"5\" valign=\"top\">12.0</th>\n",
       "      <th rowspan=\"5\" valign=\"top\">Wet or damp</th>\n",
       "      <th>Wychavon</th>\n",
       "      <td>0</td>\n",
       "      <td>8</td>\n",
       "      <td>0</td>\n",
       "      <td>9</td>\n",
       "      <td>8</td>\n",
       "    </tr>\n",
       "    <tr>\n",
       "      <th>Wycombe</th>\n",
       "      <td>1</td>\n",
       "      <td>15</td>\n",
       "      <td>1</td>\n",
       "      <td>6</td>\n",
       "      <td>11</td>\n",
       "    </tr>\n",
       "    <tr>\n",
       "      <th>Wyre</th>\n",
       "      <td>1</td>\n",
       "      <td>12</td>\n",
       "      <td>0</td>\n",
       "      <td>1</td>\n",
       "      <td>10</td>\n",
       "    </tr>\n",
       "    <tr>\n",
       "      <th>Wyre Forest</th>\n",
       "      <td>0</td>\n",
       "      <td>4</td>\n",
       "      <td>0</td>\n",
       "      <td>3</td>\n",
       "      <td>4</td>\n",
       "    </tr>\n",
       "    <tr>\n",
       "      <th>York</th>\n",
       "      <td>0</td>\n",
       "      <td>18</td>\n",
       "      <td>0</td>\n",
       "      <td>7</td>\n",
       "      <td>15</td>\n",
       "    </tr>\n",
       "  </tbody>\n",
       "</table>\n",
       "<p>25320 rows × 5 columns</p>\n",
       "</div>"
      ],
      "text/plain": [
       "Light_Conditions                             Darkness - lighting unknown  \\\n",
       "Month Road_Surface_Conditions District Area                                \n",
       "1.0   Dry                     Aberdeen City                            0   \n",
       "                              Aberdeenshire                            0   \n",
       "                              Adur                                     0   \n",
       "                              Allerdale                                0   \n",
       "                              Alnwick                                  0   \n",
       "...                                                                  ...   \n",
       "12.0  Wet or damp             Wychavon                                 0   \n",
       "                              Wycombe                                  1   \n",
       "                              Wyre                                     1   \n",
       "                              Wyre Forest                              0   \n",
       "                              York                                     0   \n",
       "\n",
       "Light_Conditions                             Darkness - lights lit  \\\n",
       "Month Road_Surface_Conditions District Area                          \n",
       "1.0   Dry                     Aberdeen City                      2   \n",
       "                              Aberdeenshire                      4   \n",
       "                              Adur                               1   \n",
       "                              Allerdale                          0   \n",
       "                              Alnwick                            0   \n",
       "...                                                            ...   \n",
       "12.0  Wet or damp             Wychavon                           8   \n",
       "                              Wycombe                           15   \n",
       "                              Wyre                              12   \n",
       "                              Wyre Forest                        4   \n",
       "                              York                              18   \n",
       "\n",
       "Light_Conditions                             Darkness - lights unlit  \\\n",
       "Month Road_Surface_Conditions District Area                            \n",
       "1.0   Dry                     Aberdeen City                        0   \n",
       "                              Aberdeenshire                        0   \n",
       "                              Adur                                 0   \n",
       "                              Allerdale                            0   \n",
       "                              Alnwick                              0   \n",
       "...                                                              ...   \n",
       "12.0  Wet or damp             Wychavon                             0   \n",
       "                              Wycombe                              1   \n",
       "                              Wyre                                 0   \n",
       "                              Wyre Forest                          0   \n",
       "                              York                                 0   \n",
       "\n",
       "Light_Conditions                             Darkness - no lighting  Daylight  \n",
       "Month Road_Surface_Conditions District Area                                    \n",
       "1.0   Dry                     Aberdeen City                       0         7  \n",
       "                              Aberdeenshire                       2         3  \n",
       "                              Adur                                0         6  \n",
       "                              Allerdale                           1         3  \n",
       "                              Alnwick                             0         0  \n",
       "...                                                             ...       ...  \n",
       "12.0  Wet or damp             Wychavon                            9         8  \n",
       "                              Wycombe                             6        11  \n",
       "                              Wyre                                1        10  \n",
       "                              Wyre Forest                         3         4  \n",
       "                              York                                7        15  \n",
       "\n",
       "[25320 rows x 5 columns]"
      ]
     },
     "execution_count": 31,
     "metadata": {},
     "output_type": "execute_result"
    }
   ],
   "source": [
    "accidents['Month'] = accidents['Accident Date'].dt.month\n",
    "accident_frequencies_trends = accidents.groupby(['Month', 'Road_Surface_Conditions', 'District Area', 'Light_Conditions']).size().unstack().fillna(0)\n",
    "accident_frequencies_trends"
   ]
  },
  {
   "cell_type": "markdown",
   "id": "c769f468-ce84-4658-a412-77dd00955035",
   "metadata": {},
   "source": [
    "<h3> Wycombe has the highest accident occur </h3>"
   ]
  },
  {
   "cell_type": "markdown",
   "id": "6bf0708d-ead0-4d2b-a929-b3d6506a24bf",
   "metadata": {},
   "source": [
    "<h1> 11. Does road type affect accident severity? </h1>"
   ]
  },
  {
   "cell_type": "code",
   "execution_count": 20,
   "id": "ca8918d2-c4f0-4ec8-b86a-7fac4aa8add2",
   "metadata": {},
   "outputs": [
    {
     "data": {
      "text/html": [
       "<div>\n",
       "<style scoped>\n",
       "    .dataframe tbody tr th:only-of-type {\n",
       "        vertical-align: middle;\n",
       "    }\n",
       "\n",
       "    .dataframe tbody tr th {\n",
       "        vertical-align: top;\n",
       "    }\n",
       "\n",
       "    .dataframe thead th {\n",
       "        text-align: right;\n",
       "    }\n",
       "</style>\n",
       "<table border=\"1\" class=\"dataframe\">\n",
       "  <thead>\n",
       "    <tr style=\"text-align: right;\">\n",
       "      <th>Accident_Severity</th>\n",
       "      <th>Fatal</th>\n",
       "      <th>Serious</th>\n",
       "      <th>Slight</th>\n",
       "    </tr>\n",
       "    <tr>\n",
       "      <th>Road_Type</th>\n",
       "      <th></th>\n",
       "      <th></th>\n",
       "      <th></th>\n",
       "    </tr>\n",
       "  </thead>\n",
       "  <tbody>\n",
       "    <tr>\n",
       "      <th>Dual carriageway</th>\n",
       "      <td>1815</td>\n",
       "      <td>11746</td>\n",
       "      <td>85863</td>\n",
       "    </tr>\n",
       "    <tr>\n",
       "      <th>One way street</th>\n",
       "      <td>95</td>\n",
       "      <td>1655</td>\n",
       "      <td>11809</td>\n",
       "    </tr>\n",
       "    <tr>\n",
       "      <th>Roundabout</th>\n",
       "      <td>142</td>\n",
       "      <td>3665</td>\n",
       "      <td>40185</td>\n",
       "    </tr>\n",
       "    <tr>\n",
       "      <th>Single carriageway</th>\n",
       "      <td>6560</td>\n",
       "      <td>70540</td>\n",
       "      <td>419563</td>\n",
       "    </tr>\n",
       "    <tr>\n",
       "      <th>Slip road</th>\n",
       "      <td>49</td>\n",
       "      <td>611</td>\n",
       "      <td>6381</td>\n",
       "    </tr>\n",
       "  </tbody>\n",
       "</table>\n",
       "</div>"
      ],
      "text/plain": [
       "Accident_Severity   Fatal  Serious  Slight\n",
       "Road_Type                                 \n",
       "Dual carriageway     1815    11746   85863\n",
       "One way street         95     1655   11809\n",
       "Roundabout            142     3665   40185\n",
       "Single carriageway   6560    70540  419563\n",
       "Slip road              49      611    6381"
      ]
     },
     "execution_count": 20,
     "metadata": {},
     "output_type": "execute_result"
    }
   ],
   "source": [
    "road_type_severity = accidents.groupby('Road_Type')['Accident_Severity'].value_counts().unstack()\n",
    "road_type_severity"
   ]
  },
  {
   "cell_type": "markdown",
   "id": "ec46946e-0fed-4765-b679-e0739ec855f5",
   "metadata": {},
   "source": [
    "<h3> The data indicates that road type significantly impacts the severity and frequency of accidents, with single carriageways showing the highest risk and slip roads showing the lowest. </h3>"
   ]
  },
  {
   "cell_type": "markdown",
   "id": "da93d78b-b414-417b-8989-7b0306f4df7c",
   "metadata": {},
   "source": [
    "<h1> 12. During which weather condition do most accidents occur in urban and rural areas? </h1>"
   ]
  },
  {
   "cell_type": "code",
   "execution_count": 21,
   "id": "846b84e7-ca63-484d-9466-8a2b5ffedb2a",
   "metadata": {},
   "outputs": [
    {
     "data": {
      "text/html": [
       "<div>\n",
       "<style scoped>\n",
       "    .dataframe tbody tr th:only-of-type {\n",
       "        vertical-align: middle;\n",
       "    }\n",
       "\n",
       "    .dataframe tbody tr th {\n",
       "        vertical-align: top;\n",
       "    }\n",
       "\n",
       "    .dataframe thead th {\n",
       "        text-align: right;\n",
       "    }\n",
       "</style>\n",
       "<table border=\"1\" class=\"dataframe\">\n",
       "  <thead>\n",
       "    <tr style=\"text-align: right;\">\n",
       "      <th>Weather_Conditions</th>\n",
       "      <th>Fine + high winds</th>\n",
       "      <th>Fine no high winds</th>\n",
       "      <th>Fog or mist</th>\n",
       "      <th>Other</th>\n",
       "      <th>Raining + high winds</th>\n",
       "      <th>Raining no high winds</th>\n",
       "      <th>Snowing + high winds</th>\n",
       "      <th>Snowing no high winds</th>\n",
       "    </tr>\n",
       "    <tr>\n",
       "      <th>Urban_or_Rural_Area</th>\n",
       "      <th></th>\n",
       "      <th></th>\n",
       "      <th></th>\n",
       "      <th></th>\n",
       "      <th></th>\n",
       "      <th></th>\n",
       "      <th></th>\n",
       "      <th></th>\n",
       "    </tr>\n",
       "  </thead>\n",
       "  <tbody>\n",
       "    <tr>\n",
       "      <th>Rural</th>\n",
       "      <td>3993</td>\n",
       "      <td>181792</td>\n",
       "      <td>2385</td>\n",
       "      <td>7337</td>\n",
       "      <td>4723</td>\n",
       "      <td>31173</td>\n",
       "      <td>571</td>\n",
       "      <td>3050</td>\n",
       "    </tr>\n",
       "    <tr>\n",
       "      <th>Unallocated</th>\n",
       "      <td>1</td>\n",
       "      <td>5</td>\n",
       "      <td>0</td>\n",
       "      <td>0</td>\n",
       "      <td>0</td>\n",
       "      <td>5</td>\n",
       "      <td>0</td>\n",
       "      <td>0</td>\n",
       "    </tr>\n",
       "    <tr>\n",
       "      <th>Urban</th>\n",
       "      <td>4560</td>\n",
       "      <td>339088</td>\n",
       "      <td>1143</td>\n",
       "      <td>9813</td>\n",
       "      <td>4892</td>\n",
       "      <td>48518</td>\n",
       "      <td>314</td>\n",
       "      <td>3188</td>\n",
       "    </tr>\n",
       "  </tbody>\n",
       "</table>\n",
       "</div>"
      ],
      "text/plain": [
       "Weather_Conditions   Fine + high winds  Fine no high winds  Fog or mist  \\\n",
       "Urban_or_Rural_Area                                                       \n",
       "Rural                             3993              181792         2385   \n",
       "Unallocated                          1                   5            0   \n",
       "Urban                             4560              339088         1143   \n",
       "\n",
       "Weather_Conditions   Other  Raining + high winds  Raining no high winds  \\\n",
       "Urban_or_Rural_Area                                                       \n",
       "Rural                 7337                  4723                  31173   \n",
       "Unallocated              0                     0                      5   \n",
       "Urban                 9813                  4892                  48518   \n",
       "\n",
       "Weather_Conditions   Snowing + high winds  Snowing no high winds  \n",
       "Urban_or_Rural_Area                                               \n",
       "Rural                                 571                   3050  \n",
       "Unallocated                             0                      0  \n",
       "Urban                                 314                   3188  "
      ]
     },
     "execution_count": 21,
     "metadata": {},
     "output_type": "execute_result"
    }
   ],
   "source": [
    "urban_rural_weather = accidents.groupby(['Urban_or_Rural_Area', 'Weather_Conditions']).size().unstack()\n",
    "urban_rural_weather"
   ]
  },
  {
   "cell_type": "markdown",
   "id": "6fea9340-ce6c-4430-8c53-cee1d9f3ce34",
   "metadata": {},
   "source": [
    "<h3> Urban Areas: Most accidents occur during fine weather with no high winds (339,088), followed by raining with no high winds (48,518). </h3>"
   ]
  },
  {
   "cell_type": "markdown",
   "id": "61d2eb5b-02fe-4dc7-ad8a-548088eadf2d",
   "metadata": {},
   "source": [
    "<h3> Rural Areas: Most accidents occur during fine weather with no high winds (181,792), followed by raining with no high winds (31,173). </h3>"
   ]
  },
  {
   "cell_type": "markdown",
   "id": "ade51425-380f-4773-96f3-bb44eec3809d",
   "metadata": {},
   "source": [
    "<h1> 13. How do adverse weather conditions, poor lighting, and hazardous road surfaces together impact accident severity? </h1>"
   ]
  },
  {
   "cell_type": "code",
   "execution_count": 22,
   "id": "5a76238c-3b3c-4426-acdb-62f6b99e4ef3",
   "metadata": {},
   "outputs": [
    {
     "data": {
      "text/html": [
       "<div>\n",
       "<style scoped>\n",
       "    .dataframe tbody tr th:only-of-type {\n",
       "        vertical-align: middle;\n",
       "    }\n",
       "\n",
       "    .dataframe tbody tr th {\n",
       "        vertical-align: top;\n",
       "    }\n",
       "\n",
       "    .dataframe thead th {\n",
       "        text-align: right;\n",
       "    }\n",
       "</style>\n",
       "<table border=\"1\" class=\"dataframe\">\n",
       "  <thead>\n",
       "    <tr style=\"text-align: right;\">\n",
       "      <th></th>\n",
       "      <th></th>\n",
       "      <th>Accident_Severity</th>\n",
       "      <th>Fatal</th>\n",
       "      <th>Serious</th>\n",
       "      <th>Slight</th>\n",
       "    </tr>\n",
       "    <tr>\n",
       "      <th>Weather_Conditions</th>\n",
       "      <th>Light_Conditions</th>\n",
       "      <th>Road_Surface_Conditions</th>\n",
       "      <th></th>\n",
       "      <th></th>\n",
       "      <th></th>\n",
       "    </tr>\n",
       "  </thead>\n",
       "  <tbody>\n",
       "    <tr>\n",
       "      <th rowspan=\"5\" valign=\"top\">Fine + high winds</th>\n",
       "      <th rowspan=\"5\" valign=\"top\">Darkness - lighting unknown</th>\n",
       "      <th>Dry</th>\n",
       "      <td>0</td>\n",
       "      <td>4</td>\n",
       "      <td>25</td>\n",
       "    </tr>\n",
       "    <tr>\n",
       "      <th>Flood over 3cm. deep</th>\n",
       "      <td>1</td>\n",
       "      <td>0</td>\n",
       "      <td>1</td>\n",
       "    </tr>\n",
       "    <tr>\n",
       "      <th>Frost or ice</th>\n",
       "      <td>1</td>\n",
       "      <td>1</td>\n",
       "      <td>1</td>\n",
       "    </tr>\n",
       "    <tr>\n",
       "      <th>Snow</th>\n",
       "      <td>0</td>\n",
       "      <td>0</td>\n",
       "      <td>0</td>\n",
       "    </tr>\n",
       "    <tr>\n",
       "      <th>Wet or damp</th>\n",
       "      <td>1</td>\n",
       "      <td>2</td>\n",
       "      <td>22</td>\n",
       "    </tr>\n",
       "    <tr>\n",
       "      <th>...</th>\n",
       "      <th>...</th>\n",
       "      <th>...</th>\n",
       "      <td>...</td>\n",
       "      <td>...</td>\n",
       "      <td>...</td>\n",
       "    </tr>\n",
       "    <tr>\n",
       "      <th rowspan=\"5\" valign=\"top\">Snowing no high winds</th>\n",
       "      <th rowspan=\"5\" valign=\"top\">Daylight</th>\n",
       "      <th>Dry</th>\n",
       "      <td>0</td>\n",
       "      <td>5</td>\n",
       "      <td>32</td>\n",
       "    </tr>\n",
       "    <tr>\n",
       "      <th>Flood over 3cm. deep</th>\n",
       "      <td>0</td>\n",
       "      <td>0</td>\n",
       "      <td>2</td>\n",
       "    </tr>\n",
       "    <tr>\n",
       "      <th>Frost or ice</th>\n",
       "      <td>4</td>\n",
       "      <td>62</td>\n",
       "      <td>696</td>\n",
       "    </tr>\n",
       "    <tr>\n",
       "      <th>Snow</th>\n",
       "      <td>10</td>\n",
       "      <td>155</td>\n",
       "      <td>1870</td>\n",
       "    </tr>\n",
       "    <tr>\n",
       "      <th>Wet or damp</th>\n",
       "      <td>6</td>\n",
       "      <td>70</td>\n",
       "      <td>563</td>\n",
       "    </tr>\n",
       "  </tbody>\n",
       "</table>\n",
       "<p>200 rows × 3 columns</p>\n",
       "</div>"
      ],
      "text/plain": [
       "Accident_Severity                                                          Fatal  \\\n",
       "Weather_Conditions    Light_Conditions            Road_Surface_Conditions          \n",
       "Fine + high winds     Darkness - lighting unknown Dry                          0   \n",
       "                                                  Flood over 3cm. deep         1   \n",
       "                                                  Frost or ice                 1   \n",
       "                                                  Snow                         0   \n",
       "                                                  Wet or damp                  1   \n",
       "...                                                                          ...   \n",
       "Snowing no high winds Daylight                    Dry                          0   \n",
       "                                                  Flood over 3cm. deep         0   \n",
       "                                                  Frost or ice                 4   \n",
       "                                                  Snow                        10   \n",
       "                                                  Wet or damp                  6   \n",
       "\n",
       "Accident_Severity                                                          Serious  \\\n",
       "Weather_Conditions    Light_Conditions            Road_Surface_Conditions            \n",
       "Fine + high winds     Darkness - lighting unknown Dry                            4   \n",
       "                                                  Flood over 3cm. deep           0   \n",
       "                                                  Frost or ice                   1   \n",
       "                                                  Snow                           0   \n",
       "                                                  Wet or damp                    2   \n",
       "...                                                                            ...   \n",
       "Snowing no high winds Daylight                    Dry                            5   \n",
       "                                                  Flood over 3cm. deep           0   \n",
       "                                                  Frost or ice                  62   \n",
       "                                                  Snow                         155   \n",
       "                                                  Wet or damp                   70   \n",
       "\n",
       "Accident_Severity                                                          Slight  \n",
       "Weather_Conditions    Light_Conditions            Road_Surface_Conditions          \n",
       "Fine + high winds     Darkness - lighting unknown Dry                          25  \n",
       "                                                  Flood over 3cm. deep          1  \n",
       "                                                  Frost or ice                  1  \n",
       "                                                  Snow                          0  \n",
       "                                                  Wet or damp                  22  \n",
       "...                                                                           ...  \n",
       "Snowing no high winds Daylight                    Dry                          32  \n",
       "                                                  Flood over 3cm. deep          2  \n",
       "                                                  Frost or ice                696  \n",
       "                                                  Snow                       1870  \n",
       "                                                  Wet or damp                 563  \n",
       "\n",
       "[200 rows x 3 columns]"
      ]
     },
     "execution_count": 22,
     "metadata": {},
     "output_type": "execute_result"
    }
   ],
   "source": [
    "multivariate_analysis_1 = accidents.groupby(['Weather_Conditions', 'Light_Conditions', 'Road_Surface_Conditions'])['Accident_Severity'].value_counts().unstack()\n",
    "multivariate_analysis_1"
   ]
  },
  {
   "cell_type": "markdown",
   "id": "2064bd50-3da4-45b3-bf43-a80a8e559e31",
   "metadata": {},
   "source": [
    "<h3> Darkness + Frost/Ice/Wet/Damp with high winds tends to have more serious and slight accidents. Fatal accidents are less common but present. </h3>"
   ]
  },
  {
   "cell_type": "markdown",
   "id": "4656176d-0d3d-4a7f-af07-5599c7461df3",
   "metadata": {},
   "source": [
    "<h3> Daylight + Snow/Frost/Ice in snowing conditions tends to have the highest number of serious and slight accidents, with a significant number of fatal accidents in frosty and snowy conditions. </h3>"
   ]
  },
  {
   "cell_type": "markdown",
   "id": "7875e87c-b527-42e2-b77a-f2ea91316836",
   "metadata": {},
   "source": [
    "<h1> 14. What are the top 5 district areas with the highest number of vehicle accidents? </h1>"
   ]
  },
  {
   "cell_type": "code",
   "execution_count": 23,
   "id": "1fc6d77f-6643-445c-b9a1-8b7ba25eca5a",
   "metadata": {},
   "outputs": [
    {
     "data": {
      "text/plain": [
       "District Area\n",
       "Birmingham    13491\n",
       "Leeds          8898\n",
       "Manchester     6720\n",
       "Bradford       6212\n",
       "Sheffield      5710\n",
       "Name: count, dtype: int64"
      ]
     },
     "execution_count": 23,
     "metadata": {},
     "output_type": "execute_result"
    }
   ],
   "source": [
    "accidents['District Area'].value_counts().head(5)"
   ]
  },
  {
   "cell_type": "markdown",
   "id": "95d72956-5fa4-4a7f-9b6a-5cb8c14c14c3",
   "metadata": {},
   "source": [
    "<h3> Birmingham has the highest number of accidents among these district areas, followed by Leeds and Manchester. </h3>"
   ]
  },
  {
   "cell_type": "markdown",
   "id": "4c373bc7-dab5-4840-b101-ef7a6eeb7cd7",
   "metadata": {},
   "source": [
    "<h1> 15. What percentage of accidents occur in urban areas versus rural areas? </h1>"
   ]
  },
  {
   "cell_type": "markdown",
   "id": "3a8d18a5-fbad-47c1-b6fa-94c78f0cfbe6",
   "metadata": {},
   "source": [
    "<h2> What area has the highest rate of accidents? </h2>"
   ]
  },
  {
   "cell_type": "code",
   "execution_count": 24,
   "id": "b629d981-97a2-410a-8055-a81685c95a57",
   "metadata": {},
   "outputs": [
    {
     "data": {
      "text/plain": [
       "Urban_or_Rural_Area\n",
       "Urban          63.824944\n",
       "Rural          36.173391\n",
       "Unallocated     0.001665\n",
       "Name: proportion, dtype: float64"
      ]
     },
     "execution_count": 24,
     "metadata": {},
     "output_type": "execute_result"
    }
   ],
   "source": [
    "accidents['Urban_or_Rural_Area'].value_counts(normalize=True) * 100\n"
   ]
  },
  {
   "cell_type": "markdown",
   "id": "f063c217-d2f3-4476-bfc5-87af947fcb9e",
   "metadata": {},
   "source": [
    "<h3> Urban has the most percentage of accident with 63.82 </h3>"
   ]
  },
  {
   "cell_type": "markdown",
   "id": "3832b6da-81c6-498d-af78-d69c274e70fc",
   "metadata": {},
   "source": [
    "<h1> 16. What is the relationship between accident date, district area, and accident severity? </h1>"
   ]
  },
  {
   "cell_type": "code",
   "execution_count": 25,
   "id": "ac3ac6ec-72f1-48dd-b39a-de8e96674856",
   "metadata": {},
   "outputs": [
    {
     "data": {
      "text/html": [
       "<div>\n",
       "<style scoped>\n",
       "    .dataframe tbody tr th:only-of-type {\n",
       "        vertical-align: middle;\n",
       "    }\n",
       "\n",
       "    .dataframe tbody tr th {\n",
       "        vertical-align: top;\n",
       "    }\n",
       "\n",
       "    .dataframe thead th {\n",
       "        text-align: right;\n",
       "    }\n",
       "</style>\n",
       "<table border=\"1\" class=\"dataframe\">\n",
       "  <thead>\n",
       "    <tr style=\"text-align: right;\">\n",
       "      <th></th>\n",
       "      <th>Accident_Severity</th>\n",
       "      <th>Fatal</th>\n",
       "      <th>Serious</th>\n",
       "      <th>Slight</th>\n",
       "    </tr>\n",
       "    <tr>\n",
       "      <th>Accident Date</th>\n",
       "      <th>District Area</th>\n",
       "      <th></th>\n",
       "      <th></th>\n",
       "      <th></th>\n",
       "    </tr>\n",
       "  </thead>\n",
       "  <tbody>\n",
       "    <tr>\n",
       "      <th rowspan=\"5\" valign=\"top\">2019-01-01</th>\n",
       "      <th>Aberdeen City</th>\n",
       "      <td>0</td>\n",
       "      <td>0</td>\n",
       "      <td>1</td>\n",
       "    </tr>\n",
       "    <tr>\n",
       "      <th>Aberdeenshire</th>\n",
       "      <td>0</td>\n",
       "      <td>0</td>\n",
       "      <td>0</td>\n",
       "    </tr>\n",
       "    <tr>\n",
       "      <th>Adur</th>\n",
       "      <td>0</td>\n",
       "      <td>0</td>\n",
       "      <td>0</td>\n",
       "    </tr>\n",
       "    <tr>\n",
       "      <th>Allerdale</th>\n",
       "      <td>0</td>\n",
       "      <td>0</td>\n",
       "      <td>1</td>\n",
       "    </tr>\n",
       "    <tr>\n",
       "      <th>Alnwick</th>\n",
       "      <td>0</td>\n",
       "      <td>0</td>\n",
       "      <td>0</td>\n",
       "    </tr>\n",
       "    <tr>\n",
       "      <th>...</th>\n",
       "      <th>...</th>\n",
       "      <td>...</td>\n",
       "      <td>...</td>\n",
       "      <td>...</td>\n",
       "    </tr>\n",
       "    <tr>\n",
       "      <th rowspan=\"5\" valign=\"top\">2022-12-12</th>\n",
       "      <th>Wychavon</th>\n",
       "      <td>0</td>\n",
       "      <td>0</td>\n",
       "      <td>1</td>\n",
       "    </tr>\n",
       "    <tr>\n",
       "      <th>Wycombe</th>\n",
       "      <td>0</td>\n",
       "      <td>0</td>\n",
       "      <td>2</td>\n",
       "    </tr>\n",
       "    <tr>\n",
       "      <th>Wyre</th>\n",
       "      <td>0</td>\n",
       "      <td>0</td>\n",
       "      <td>1</td>\n",
       "    </tr>\n",
       "    <tr>\n",
       "      <th>Wyre Forest</th>\n",
       "      <td>0</td>\n",
       "      <td>0</td>\n",
       "      <td>2</td>\n",
       "    </tr>\n",
       "    <tr>\n",
       "      <th>York</th>\n",
       "      <td>0</td>\n",
       "      <td>1</td>\n",
       "      <td>1</td>\n",
       "    </tr>\n",
       "  </tbody>\n",
       "</table>\n",
       "<p>243072 rows × 3 columns</p>\n",
       "</div>"
      ],
      "text/plain": [
       "Accident_Severity            Fatal  Serious  Slight\n",
       "Accident Date District Area                        \n",
       "2019-01-01    Aberdeen City      0        0       1\n",
       "              Aberdeenshire      0        0       0\n",
       "              Adur               0        0       0\n",
       "              Allerdale          0        0       1\n",
       "              Alnwick            0        0       0\n",
       "...                            ...      ...     ...\n",
       "2022-12-12    Wychavon           0        0       1\n",
       "              Wycombe            0        0       2\n",
       "              Wyre               0        0       1\n",
       "              Wyre Forest        0        0       2\n",
       "              York               0        1       1\n",
       "\n",
       "[243072 rows x 3 columns]"
      ]
     },
     "execution_count": 25,
     "metadata": {},
     "output_type": "execute_result"
    }
   ],
   "source": [
    "multivariate_analysis_4 = accidents.groupby(['Accident Date', 'District Area'])['Accident_Severity'].value_counts().unstack()\n",
    "multivariate_analysis_4"
   ]
  },
  {
   "cell_type": "markdown",
   "id": "e7ae5e99-17b3-4870-b8cc-246aa447de9f",
   "metadata": {},
   "source": [
    "<h1> 17. How do accident severity, urban/rural areas, and road surface conditions together impact the number of casualties? </h1>"
   ]
  },
  {
   "cell_type": "code",
   "execution_count": 26,
   "id": "d6922a2d-edec-452e-907c-b64c23a5a051",
   "metadata": {},
   "outputs": [
    {
     "data": {
      "text/plain": [
       "Accident_Severity  Urban_or_Rural_Area  Road_Surface_Conditions\n",
       "Fatal              Rural                Dry                        2.001375\n",
       "                                        Flood over 3cm. deep       2.150000\n",
       "                                        Frost or ice               2.352564\n",
       "                                        Snow                       2.103448\n",
       "                                        Wet or damp                2.264355\n",
       "                   Unallocated          Dry                             NaN\n",
       "                                        Flood over 3cm. deep            NaN\n",
       "                                        Frost or ice                    NaN\n",
       "                                        Snow                            NaN\n",
       "                                        Wet or damp                     NaN\n",
       "                   Urban                Dry                        1.529958\n",
       "                                        Flood over 3cm. deep       3.000000\n",
       "                                        Frost or ice               2.162162\n",
       "                                        Snow                       1.666667\n",
       "                                        Wet or damp                1.576074\n",
       "Serious            Rural                Dry                        1.637913\n",
       "                                        Flood over 3cm. deep       1.737705\n",
       "                                        Frost or ice               1.681034\n",
       "                                        Snow                       1.747191\n",
       "                                        Wet or damp                1.774872\n",
       "                   Unallocated          Dry                             NaN\n",
       "                                        Flood over 3cm. deep            NaN\n",
       "                                        Frost or ice                    NaN\n",
       "                                        Snow                            NaN\n",
       "                                        Wet or damp                1.000000\n",
       "                   Urban                Dry                        1.284189\n",
       "                                        Flood over 3cm. deep       1.666667\n",
       "                                        Frost or ice               1.354309\n",
       "                                        Snow                       1.315789\n",
       "                                        Wet or damp                1.382721\n",
       "Slight             Rural                Dry                        1.419509\n",
       "                                        Flood over 3cm. deep       1.449456\n",
       "                                        Frost or ice               1.319714\n",
       "                                        Snow                       1.391240\n",
       "                                        Wet or damp                1.445092\n",
       "                   Unallocated          Dry                        1.400000\n",
       "                                        Flood over 3cm. deep       1.000000\n",
       "                                        Frost or ice                    NaN\n",
       "                                        Snow                            NaN\n",
       "                                        Wet or damp                1.000000\n",
       "                   Urban                Dry                        1.265255\n",
       "                                        Flood over 3cm. deep       1.383838\n",
       "                                        Frost or ice               1.299147\n",
       "                                        Snow                       1.267003\n",
       "                                        Wet or damp                1.330017\n",
       "Name: Number_of_Casualties, dtype: float64"
      ]
     },
     "execution_count": 26,
     "metadata": {},
     "output_type": "execute_result"
    }
   ],
   "source": [
    "accidents.groupby(['Accident_Severity', 'Urban_or_Rural_Area', 'Road_Surface_Conditions'])['Number_of_Casualties'].mean()\n"
   ]
  },
  {
   "cell_type": "markdown",
   "id": "a2018b82-f9e7-40f2-8fd2-4b452d8a0860",
   "metadata": {},
   "source": [
    "<h3> Rural Areas generally have higher casualties per accident compared to urban areas across all severity levels and road surface conditions. </h3>"
   ]
  },
  {
   "cell_type": "markdown",
   "id": "35628626-fc22-4fd9-a421-1ee369840502",
   "metadata": {},
   "source": [
    "<h3> Fatal Accidents in urban areas during flooding conditions show the highest number of casualties per accident (3.000). </h3>"
   ]
  },
  {
   "cell_type": "markdown",
   "id": "fe775101-6baa-4dc8-b1c6-b68bc6c78244",
   "metadata": {},
   "source": [
    "<h3> Serious and Slight Accidents show a consistent pattern where rural areas have more casualties per accident compared to urban areas, with frost or ice and wet or damp conditions being particularly hazardous. </h3>"
   ]
  },
  {
   "cell_type": "markdown",
   "id": "ece625fa-988c-43c1-988c-27aa90eb7340",
   "metadata": {},
   "source": [
    "<h1> 18. What is the distribution of accidents across different weather conditions? </h1>"
   ]
  },
  {
   "cell_type": "markdown",
   "id": "7186f2d5-d2bb-412a-a478-25a4b8f7cddf",
   "metadata": {},
   "source": [
    "<h2> In all weather conditions, which has the least record of accident? </h2>"
   ]
  },
  {
   "cell_type": "code",
   "execution_count": 27,
   "id": "af584a09-ec98-4961-8b43-c9f956ea38aa",
   "metadata": {},
   "outputs": [
    {
     "data": {
      "text/plain": [
       "Weather_Conditions\n",
       "Fine no high winds       520885\n",
       "Raining no high winds     79696\n",
       "Other                     17150\n",
       "Raining + high winds       9615\n",
       "Fine + high winds          8554\n",
       "Snowing no high winds      6238\n",
       "Fog or mist                3528\n",
       "Snowing + high winds        885\n",
       "Name: count, dtype: int64"
      ]
     },
     "execution_count": 27,
     "metadata": {},
     "output_type": "execute_result"
    }
   ],
   "source": [
    "weather_distribution = accidents['Weather_Conditions'].value_counts()\n",
    "weather_distribution"
   ]
  },
  {
   "cell_type": "markdown",
   "id": "f28bf473-71c5-4069-a022-027e172004a6",
   "metadata": {},
   "source": [
    "<h3> Snowing and high winds has the least record of accident </h3>"
   ]
  },
  {
   "cell_type": "markdown",
   "id": "5b944e01-62cb-4f37-9919-e39d297301dc",
   "metadata": {},
   "source": [
    "<h1> 19. How does road surface condition affect the number of vehicles involved in accidents? </h1>"
   ]
  },
  {
   "cell_type": "code",
   "execution_count": 28,
   "id": "98de93b3-a37e-466f-9db9-51afc566d93e",
   "metadata": {},
   "outputs": [
    {
     "data": {
      "text/plain": [
       "Road_Surface_Conditions\n",
       "Dry                     1.841631\n",
       "Flood over 3cm. deep    1.610619\n",
       "Frost or ice            1.640006\n",
       "Snow                    1.746859\n",
       "Wet or damp             1.829161\n",
       "Name: Number_of_Vehicles, dtype: float64"
      ]
     },
     "execution_count": 28,
     "metadata": {},
     "output_type": "execute_result"
    }
   ],
   "source": [
    "road_surface_vehicles = accidents.groupby('Road_Surface_Conditions')['Number_of_Vehicles'].mean()\n",
    "road_surface_vehicles"
   ]
  },
  {
   "cell_type": "markdown",
   "id": "8d2c4b91-d12e-4e6f-aef7-d76991858867",
   "metadata": {},
   "source": [
    "<h1> 20.What is the impact of weather conditions, road type, and light conditions on accident severity? </h1>"
   ]
  },
  {
   "cell_type": "code",
   "execution_count": 29,
   "id": "e11202a4-8730-4e85-98dd-c9faa83706a1",
   "metadata": {},
   "outputs": [
    {
     "data": {
      "text/html": [
       "<div>\n",
       "<style scoped>\n",
       "    .dataframe tbody tr th:only-of-type {\n",
       "        vertical-align: middle;\n",
       "    }\n",
       "\n",
       "    .dataframe tbody tr th {\n",
       "        vertical-align: top;\n",
       "    }\n",
       "\n",
       "    .dataframe thead th {\n",
       "        text-align: right;\n",
       "    }\n",
       "</style>\n",
       "<table border=\"1\" class=\"dataframe\">\n",
       "  <thead>\n",
       "    <tr style=\"text-align: right;\">\n",
       "      <th></th>\n",
       "      <th></th>\n",
       "      <th>Accident_Severity</th>\n",
       "      <th>Fatal</th>\n",
       "      <th>Serious</th>\n",
       "      <th>Slight</th>\n",
       "    </tr>\n",
       "    <tr>\n",
       "      <th>Weather_Conditions</th>\n",
       "      <th>Road_Type</th>\n",
       "      <th>Light_Conditions</th>\n",
       "      <th></th>\n",
       "      <th></th>\n",
       "      <th></th>\n",
       "    </tr>\n",
       "  </thead>\n",
       "  <tbody>\n",
       "    <tr>\n",
       "      <th rowspan=\"5\" valign=\"top\">Fine + high winds</th>\n",
       "      <th rowspan=\"5\" valign=\"top\">Dual carriageway</th>\n",
       "      <th>Darkness - lighting unknown</th>\n",
       "      <td>1</td>\n",
       "      <td>3</td>\n",
       "      <td>9</td>\n",
       "    </tr>\n",
       "    <tr>\n",
       "      <th>Darkness - lights lit</th>\n",
       "      <td>12</td>\n",
       "      <td>50</td>\n",
       "      <td>281</td>\n",
       "    </tr>\n",
       "    <tr>\n",
       "      <th>Darkness - lights unlit</th>\n",
       "      <td>2</td>\n",
       "      <td>3</td>\n",
       "      <td>9</td>\n",
       "    </tr>\n",
       "    <tr>\n",
       "      <th>Darkness - no lighting</th>\n",
       "      <td>6</td>\n",
       "      <td>17</td>\n",
       "      <td>135</td>\n",
       "    </tr>\n",
       "    <tr>\n",
       "      <th>Daylight</th>\n",
       "      <td>11</td>\n",
       "      <td>107</td>\n",
       "      <td>873</td>\n",
       "    </tr>\n",
       "    <tr>\n",
       "      <th>...</th>\n",
       "      <th>...</th>\n",
       "      <th>...</th>\n",
       "      <td>...</td>\n",
       "      <td>...</td>\n",
       "      <td>...</td>\n",
       "    </tr>\n",
       "    <tr>\n",
       "      <th rowspan=\"5\" valign=\"top\">Snowing no high winds</th>\n",
       "      <th rowspan=\"5\" valign=\"top\">Slip road</th>\n",
       "      <th>Darkness - lighting unknown</th>\n",
       "      <td>0</td>\n",
       "      <td>0</td>\n",
       "      <td>3</td>\n",
       "    </tr>\n",
       "    <tr>\n",
       "      <th>Darkness - lights lit</th>\n",
       "      <td>0</td>\n",
       "      <td>1</td>\n",
       "      <td>24</td>\n",
       "    </tr>\n",
       "    <tr>\n",
       "      <th>Darkness - lights unlit</th>\n",
       "      <td>0</td>\n",
       "      <td>0</td>\n",
       "      <td>0</td>\n",
       "    </tr>\n",
       "    <tr>\n",
       "      <th>Darkness - no lighting</th>\n",
       "      <td>0</td>\n",
       "      <td>4</td>\n",
       "      <td>5</td>\n",
       "    </tr>\n",
       "    <tr>\n",
       "      <th>Daylight</th>\n",
       "      <td>0</td>\n",
       "      <td>2</td>\n",
       "      <td>30</td>\n",
       "    </tr>\n",
       "  </tbody>\n",
       "</table>\n",
       "<p>200 rows × 3 columns</p>\n",
       "</div>"
      ],
      "text/plain": [
       "Accident_Severity                                                   Fatal  \\\n",
       "Weather_Conditions    Road_Type        Light_Conditions                     \n",
       "Fine + high winds     Dual carriageway Darkness - lighting unknown      1   \n",
       "                                       Darkness - lights lit           12   \n",
       "                                       Darkness - lights unlit          2   \n",
       "                                       Darkness - no lighting           6   \n",
       "                                       Daylight                        11   \n",
       "...                                                                   ...   \n",
       "Snowing no high winds Slip road        Darkness - lighting unknown      0   \n",
       "                                       Darkness - lights lit            0   \n",
       "                                       Darkness - lights unlit          0   \n",
       "                                       Darkness - no lighting           0   \n",
       "                                       Daylight                         0   \n",
       "\n",
       "Accident_Severity                                                   Serious  \\\n",
       "Weather_Conditions    Road_Type        Light_Conditions                       \n",
       "Fine + high winds     Dual carriageway Darkness - lighting unknown        3   \n",
       "                                       Darkness - lights lit             50   \n",
       "                                       Darkness - lights unlit            3   \n",
       "                                       Darkness - no lighting            17   \n",
       "                                       Daylight                         107   \n",
       "...                                                                     ...   \n",
       "Snowing no high winds Slip road        Darkness - lighting unknown        0   \n",
       "                                       Darkness - lights lit              1   \n",
       "                                       Darkness - lights unlit            0   \n",
       "                                       Darkness - no lighting             4   \n",
       "                                       Daylight                           2   \n",
       "\n",
       "Accident_Severity                                                   Slight  \n",
       "Weather_Conditions    Road_Type        Light_Conditions                     \n",
       "Fine + high winds     Dual carriageway Darkness - lighting unknown       9  \n",
       "                                       Darkness - lights lit           281  \n",
       "                                       Darkness - lights unlit           9  \n",
       "                                       Darkness - no lighting          135  \n",
       "                                       Daylight                        873  \n",
       "...                                                                    ...  \n",
       "Snowing no high winds Slip road        Darkness - lighting unknown       3  \n",
       "                                       Darkness - lights lit            24  \n",
       "                                       Darkness - lights unlit           0  \n",
       "                                       Darkness - no lighting            5  \n",
       "                                       Daylight                         30  \n",
       "\n",
       "[200 rows x 3 columns]"
      ]
     },
     "execution_count": 29,
     "metadata": {},
     "output_type": "execute_result"
    }
   ],
   "source": [
    "multivariate_analysis_6 = accidents.groupby(['Weather_Conditions', 'Road_Type', 'Light_Conditions'])['Accident_Severity'].value_counts().unstack()\n",
    "multivariate_analysis_6"
   ]
  },
  {
   "cell_type": "code",
   "execution_count": null,
   "id": "ad8b99a6-bcb6-41e7-94e1-7e1f72e0347e",
   "metadata": {},
   "outputs": [],
   "source": []
  }
 ],
 "metadata": {
  "kernelspec": {
   "display_name": "Python 3 (ipykernel)",
   "language": "python",
   "name": "python3"
  },
  "language_info": {
   "codemirror_mode": {
    "name": "ipython",
    "version": 3
   },
   "file_extension": ".py",
   "mimetype": "text/x-python",
   "name": "python",
   "nbconvert_exporter": "python",
   "pygments_lexer": "ipython3",
   "version": "3.13.2"
  }
 },
 "nbformat": 4,
 "nbformat_minor": 5
}
